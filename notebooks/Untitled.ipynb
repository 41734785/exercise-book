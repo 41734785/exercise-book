{
 "cells": [
  {
   "cell_type": "code",
   "execution_count": null,
   "metadata": {
    "collapsed": true
   },
   "outputs": [],
   "source": [
    "\"\"\"\n",
    "params = {\n",
    "'residual_threshold': range(100000,200000,5000),\n",
    "'max_trails': [100,1000,3000]\n",
    "}\n",
    "ransac = sklearn.linear_model.RansacRegressor()\n",
    "searcher = sklearn.grid_search.GridSearchCV(ransac,params,cv=10)\n",
    "searcher.fit(sac[columns],sac.price)\n",
    "searcher.best_score_\n",
    "\n",
    "\n",
    "searcher.best_params_\n",
    "\n",
    "\n",
    "\n",
    "\"\"\""
   ]
  }
 ],
 "metadata": {
  "kernelspec": {
   "display_name": "Python 2",
   "language": "python",
   "name": "python2"
  },
  "language_info": {
   "codemirror_mode": {
    "name": "ipython",
    "version": 2
   },
   "file_extension": ".py",
   "mimetype": "text/x-python",
   "name": "python",
   "nbconvert_exporter": "python",
   "pygments_lexer": "ipython2",
   "version": "2.7.12"
  }
 },
 "nbformat": 4,
 "nbformat_minor": 0
}
