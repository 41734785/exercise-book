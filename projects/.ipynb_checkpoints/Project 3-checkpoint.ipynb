{
 "cells": [
  {
   "cell_type": "code",
   "execution_count": 547,
   "metadata": {
    "collapsed": true
   },
   "outputs": [],
   "source": [
    "% matplotlib inline\n",
    "import datetime\n",
    "import numpy as np\n",
    "import pandas as pd"
   ]
  },
  {
   "cell_type": "code",
   "execution_count": 548,
   "metadata": {
    "collapsed": false
   },
   "outputs": [
    {
     "data": {
      "text/html": [
       "<div>\n",
       "<table border=\"1\" class=\"dataframe\">\n",
       "  <thead>\n",
       "    <tr style=\"text-align: right;\">\n",
       "      <th></th>\n",
       "      <th>Date</th>\n",
       "      <th>Store Number</th>\n",
       "      <th>City</th>\n",
       "      <th>Zip Code</th>\n",
       "      <th>County Number</th>\n",
       "      <th>County</th>\n",
       "      <th>Category</th>\n",
       "      <th>Category Name</th>\n",
       "      <th>Vendor Number</th>\n",
       "      <th>Item Number</th>\n",
       "      <th>Item Description</th>\n",
       "      <th>Bottle Volume (ml)</th>\n",
       "      <th>State Bottle Cost</th>\n",
       "      <th>State Bottle Retail</th>\n",
       "      <th>Bottles Sold</th>\n",
       "      <th>Sale (Dollars)</th>\n",
       "      <th>Volume Sold (Liters)</th>\n",
       "      <th>Volume Sold (Gallons)</th>\n",
       "    </tr>\n",
       "  </thead>\n",
       "  <tbody>\n",
       "    <tr>\n",
       "      <th>0</th>\n",
       "      <td>11/04/2015</td>\n",
       "      <td>3717</td>\n",
       "      <td>SUMNER</td>\n",
       "      <td>50674</td>\n",
       "      <td>9.0</td>\n",
       "      <td>Bremer</td>\n",
       "      <td>1051100.0</td>\n",
       "      <td>APRICOT BRANDIES</td>\n",
       "      <td>55</td>\n",
       "      <td>54436</td>\n",
       "      <td>Mr. Boston Apricot Brandy</td>\n",
       "      <td>750</td>\n",
       "      <td>$4.50</td>\n",
       "      <td>$6.75</td>\n",
       "      <td>12</td>\n",
       "      <td>$81.00</td>\n",
       "      <td>9.0</td>\n",
       "      <td>2.38</td>\n",
       "    </tr>\n",
       "    <tr>\n",
       "      <th>1</th>\n",
       "      <td>03/02/2016</td>\n",
       "      <td>2614</td>\n",
       "      <td>DAVENPORT</td>\n",
       "      <td>52807</td>\n",
       "      <td>82.0</td>\n",
       "      <td>Scott</td>\n",
       "      <td>1011100.0</td>\n",
       "      <td>BLENDED WHISKIES</td>\n",
       "      <td>395</td>\n",
       "      <td>27605</td>\n",
       "      <td>Tin Cup</td>\n",
       "      <td>750</td>\n",
       "      <td>$13.75</td>\n",
       "      <td>$20.63</td>\n",
       "      <td>2</td>\n",
       "      <td>$41.26</td>\n",
       "      <td>1.5</td>\n",
       "      <td>0.40</td>\n",
       "    </tr>\n",
       "    <tr>\n",
       "      <th>2</th>\n",
       "      <td>02/11/2016</td>\n",
       "      <td>2106</td>\n",
       "      <td>CEDAR FALLS</td>\n",
       "      <td>50613</td>\n",
       "      <td>7.0</td>\n",
       "      <td>Black Hawk</td>\n",
       "      <td>1011200.0</td>\n",
       "      <td>STRAIGHT BOURBON WHISKIES</td>\n",
       "      <td>65</td>\n",
       "      <td>19067</td>\n",
       "      <td>Jim Beam</td>\n",
       "      <td>1000</td>\n",
       "      <td>$12.59</td>\n",
       "      <td>$18.89</td>\n",
       "      <td>24</td>\n",
       "      <td>$453.36</td>\n",
       "      <td>24.0</td>\n",
       "      <td>6.34</td>\n",
       "    </tr>\n",
       "    <tr>\n",
       "      <th>3</th>\n",
       "      <td>02/03/2016</td>\n",
       "      <td>2501</td>\n",
       "      <td>AMES</td>\n",
       "      <td>50010</td>\n",
       "      <td>85.0</td>\n",
       "      <td>Story</td>\n",
       "      <td>1071100.0</td>\n",
       "      <td>AMERICAN COCKTAILS</td>\n",
       "      <td>395</td>\n",
       "      <td>59154</td>\n",
       "      <td>1800 Ultimate Margarita</td>\n",
       "      <td>1750</td>\n",
       "      <td>$9.50</td>\n",
       "      <td>$14.25</td>\n",
       "      <td>6</td>\n",
       "      <td>$85.50</td>\n",
       "      <td>10.5</td>\n",
       "      <td>2.77</td>\n",
       "    </tr>\n",
       "    <tr>\n",
       "      <th>4</th>\n",
       "      <td>08/18/2015</td>\n",
       "      <td>3654</td>\n",
       "      <td>BELMOND</td>\n",
       "      <td>50421</td>\n",
       "      <td>99.0</td>\n",
       "      <td>Wright</td>\n",
       "      <td>1031080.0</td>\n",
       "      <td>VODKA 80 PROOF</td>\n",
       "      <td>297</td>\n",
       "      <td>35918</td>\n",
       "      <td>Five O'clock Vodka</td>\n",
       "      <td>1750</td>\n",
       "      <td>$7.20</td>\n",
       "      <td>$10.80</td>\n",
       "      <td>12</td>\n",
       "      <td>$129.60</td>\n",
       "      <td>21.0</td>\n",
       "      <td>5.55</td>\n",
       "    </tr>\n",
       "  </tbody>\n",
       "</table>\n",
       "</div>"
      ],
      "text/plain": [
       "         Date  Store Number         City Zip Code  County Number      County  \\\n",
       "0  11/04/2015          3717       SUMNER    50674            9.0      Bremer   \n",
       "1  03/02/2016          2614    DAVENPORT    52807           82.0       Scott   \n",
       "2  02/11/2016          2106  CEDAR FALLS    50613            7.0  Black Hawk   \n",
       "3  02/03/2016          2501         AMES    50010           85.0       Story   \n",
       "4  08/18/2015          3654      BELMOND    50421           99.0      Wright   \n",
       "\n",
       "    Category              Category Name  Vendor Number  Item Number  \\\n",
       "0  1051100.0           APRICOT BRANDIES             55        54436   \n",
       "1  1011100.0           BLENDED WHISKIES            395        27605   \n",
       "2  1011200.0  STRAIGHT BOURBON WHISKIES             65        19067   \n",
       "3  1071100.0         AMERICAN COCKTAILS            395        59154   \n",
       "4  1031080.0             VODKA 80 PROOF            297        35918   \n",
       "\n",
       "            Item Description  Bottle Volume (ml) State Bottle Cost  \\\n",
       "0  Mr. Boston Apricot Brandy                 750             $4.50   \n",
       "1                    Tin Cup                 750            $13.75   \n",
       "2                   Jim Beam                1000            $12.59   \n",
       "3    1800 Ultimate Margarita                1750             $9.50   \n",
       "4         Five O'clock Vodka                1750             $7.20   \n",
       "\n",
       "  State Bottle Retail  Bottles Sold Sale (Dollars)  Volume Sold (Liters)  \\\n",
       "0               $6.75            12         $81.00                   9.0   \n",
       "1              $20.63             2         $41.26                   1.5   \n",
       "2              $18.89            24        $453.36                  24.0   \n",
       "3              $14.25             6         $85.50                  10.5   \n",
       "4              $10.80            12        $129.60                  21.0   \n",
       "\n",
       "   Volume Sold (Gallons)  \n",
       "0                   2.38  \n",
       "1                   0.40  \n",
       "2                   6.34  \n",
       "3                   2.77  \n",
       "4                   5.55  "
      ]
     },
     "execution_count": 548,
     "metadata": {},
     "output_type": "execute_result"
    }
   ],
   "source": [
    "df = pd.read_csv(\"Iowa_Liquor_sales_sample_10pct.csv\")\n",
    "df.head()"
   ]
  },
  {
   "cell_type": "markdown",
   "metadata": {},
   "source": [
    "# Clean Data"
   ]
  },
  {
   "cell_type": "code",
   "execution_count": 549,
   "metadata": {
    "collapsed": false
   },
   "outputs": [
    {
     "data": {
      "text/html": [
       "<div>\n",
       "<table border=\"1\" class=\"dataframe\">\n",
       "  <thead>\n",
       "    <tr style=\"text-align: right;\">\n",
       "      <th></th>\n",
       "      <th>Date</th>\n",
       "      <th>Store Number</th>\n",
       "      <th>City</th>\n",
       "      <th>Zip Code</th>\n",
       "      <th>County Number</th>\n",
       "      <th>Category</th>\n",
       "      <th>Vendor Number</th>\n",
       "      <th>Item Number</th>\n",
       "      <th>Bottle Volume (ml)</th>\n",
       "      <th>State Bottle Cost</th>\n",
       "      <th>State Bottle Retail</th>\n",
       "      <th>Bottles Sold</th>\n",
       "      <th>Sale (Dollars)</th>\n",
       "      <th>Volume Sold (Liters)</th>\n",
       "      <th>Volume Sold (Gallons)</th>\n",
       "    </tr>\n",
       "  </thead>\n",
       "  <tbody>\n",
       "    <tr>\n",
       "      <th>0</th>\n",
       "      <td>11/04/2015</td>\n",
       "      <td>3717</td>\n",
       "      <td>SUMNER</td>\n",
       "      <td>50674</td>\n",
       "      <td>9.0</td>\n",
       "      <td>1051100.0</td>\n",
       "      <td>55</td>\n",
       "      <td>54436</td>\n",
       "      <td>750</td>\n",
       "      <td>$4.50</td>\n",
       "      <td>$6.75</td>\n",
       "      <td>12</td>\n",
       "      <td>$81.00</td>\n",
       "      <td>9.0</td>\n",
       "      <td>2.38</td>\n",
       "    </tr>\n",
       "    <tr>\n",
       "      <th>1</th>\n",
       "      <td>03/02/2016</td>\n",
       "      <td>2614</td>\n",
       "      <td>DAVENPORT</td>\n",
       "      <td>52807</td>\n",
       "      <td>82.0</td>\n",
       "      <td>1011100.0</td>\n",
       "      <td>395</td>\n",
       "      <td>27605</td>\n",
       "      <td>750</td>\n",
       "      <td>$13.75</td>\n",
       "      <td>$20.63</td>\n",
       "      <td>2</td>\n",
       "      <td>$41.26</td>\n",
       "      <td>1.5</td>\n",
       "      <td>0.40</td>\n",
       "    </tr>\n",
       "    <tr>\n",
       "      <th>2</th>\n",
       "      <td>02/11/2016</td>\n",
       "      <td>2106</td>\n",
       "      <td>CEDAR FALLS</td>\n",
       "      <td>50613</td>\n",
       "      <td>7.0</td>\n",
       "      <td>1011200.0</td>\n",
       "      <td>65</td>\n",
       "      <td>19067</td>\n",
       "      <td>1000</td>\n",
       "      <td>$12.59</td>\n",
       "      <td>$18.89</td>\n",
       "      <td>24</td>\n",
       "      <td>$453.36</td>\n",
       "      <td>24.0</td>\n",
       "      <td>6.34</td>\n",
       "    </tr>\n",
       "    <tr>\n",
       "      <th>3</th>\n",
       "      <td>02/03/2016</td>\n",
       "      <td>2501</td>\n",
       "      <td>AMES</td>\n",
       "      <td>50010</td>\n",
       "      <td>85.0</td>\n",
       "      <td>1071100.0</td>\n",
       "      <td>395</td>\n",
       "      <td>59154</td>\n",
       "      <td>1750</td>\n",
       "      <td>$9.50</td>\n",
       "      <td>$14.25</td>\n",
       "      <td>6</td>\n",
       "      <td>$85.50</td>\n",
       "      <td>10.5</td>\n",
       "      <td>2.77</td>\n",
       "    </tr>\n",
       "    <tr>\n",
       "      <th>4</th>\n",
       "      <td>08/18/2015</td>\n",
       "      <td>3654</td>\n",
       "      <td>BELMOND</td>\n",
       "      <td>50421</td>\n",
       "      <td>99.0</td>\n",
       "      <td>1031080.0</td>\n",
       "      <td>297</td>\n",
       "      <td>35918</td>\n",
       "      <td>1750</td>\n",
       "      <td>$7.20</td>\n",
       "      <td>$10.80</td>\n",
       "      <td>12</td>\n",
       "      <td>$129.60</td>\n",
       "      <td>21.0</td>\n",
       "      <td>5.55</td>\n",
       "    </tr>\n",
       "  </tbody>\n",
       "</table>\n",
       "</div>"
      ],
      "text/plain": [
       "         Date  Store Number         City Zip Code  County Number   Category  \\\n",
       "0  11/04/2015          3717       SUMNER    50674            9.0  1051100.0   \n",
       "1  03/02/2016          2614    DAVENPORT    52807           82.0  1011100.0   \n",
       "2  02/11/2016          2106  CEDAR FALLS    50613            7.0  1011200.0   \n",
       "3  02/03/2016          2501         AMES    50010           85.0  1071100.0   \n",
       "4  08/18/2015          3654      BELMOND    50421           99.0  1031080.0   \n",
       "\n",
       "   Vendor Number  Item Number  Bottle Volume (ml) State Bottle Cost  \\\n",
       "0             55        54436                 750             $4.50   \n",
       "1            395        27605                 750            $13.75   \n",
       "2             65        19067                1000            $12.59   \n",
       "3            395        59154                1750             $9.50   \n",
       "4            297        35918                1750             $7.20   \n",
       "\n",
       "  State Bottle Retail  Bottles Sold Sale (Dollars)  Volume Sold (Liters)  \\\n",
       "0               $6.75            12         $81.00                   9.0   \n",
       "1              $20.63             2         $41.26                   1.5   \n",
       "2              $18.89            24        $453.36                  24.0   \n",
       "3              $14.25             6         $85.50                  10.5   \n",
       "4              $10.80            12        $129.60                  21.0   \n",
       "\n",
       "   Volume Sold (Gallons)  \n",
       "0                   2.38  \n",
       "1                   0.40  \n",
       "2                   6.34  \n",
       "3                   2.77  \n",
       "4                   5.55  "
      ]
     },
     "execution_count": 549,
     "metadata": {},
     "output_type": "execute_result"
    }
   ],
   "source": [
    "del df['Item Description']\n",
    "del df['Category Name']\n",
    "del df['County']\n",
    "df.head()"
   ]
  },
  {
   "cell_type": "code",
   "execution_count": 550,
   "metadata": {
    "collapsed": false
   },
   "outputs": [
    {
     "data": {
      "text/plain": [
       "Date                      object\n",
       "Store Number               int64\n",
       "City                      object\n",
       "Zip Code                  object\n",
       "County Number            float64\n",
       "Category                 float64\n",
       "Vendor Number              int64\n",
       "Item Number                int64\n",
       "Bottle Volume (ml)         int64\n",
       "State Bottle Cost        float64\n",
       "State Bottle Retail      float64\n",
       "Bottles Sold               int64\n",
       "Sale (Dollars)           float64\n",
       "Volume Sold (Liters)     float64\n",
       "Volume Sold (Gallons)    float64\n",
       "dtype: object"
      ]
     },
     "execution_count": 550,
     "metadata": {},
     "output_type": "execute_result"
    }
   ],
   "source": [
    "cols = [\"State Bottle Cost\", \"State Bottle Retail\", \"Sale (Dollars)\"]\n",
    "for col in cols:\n",
    "    df[col] = df[col].apply(lambda x: float(x[1:]))\n",
    "df.dtypes"
   ]
  },
  {
   "cell_type": "code",
   "execution_count": 551,
   "metadata": {
    "collapsed": false
   },
   "outputs": [
    {
     "data": {
      "text/html": [
       "<div>\n",
       "<table border=\"1\" class=\"dataframe\">\n",
       "  <thead>\n",
       "    <tr style=\"text-align: right;\">\n",
       "      <th></th>\n",
       "      <th>Date</th>\n",
       "      <th>Store Number</th>\n",
       "      <th>City</th>\n",
       "      <th>Zip Code</th>\n",
       "      <th>County Number</th>\n",
       "      <th>Category</th>\n",
       "      <th>Vendor Number</th>\n",
       "      <th>Item Number</th>\n",
       "      <th>Bottle Volume (ml)</th>\n",
       "      <th>State Bottle Cost</th>\n",
       "      <th>State Bottle Retail</th>\n",
       "      <th>Bottles Sold</th>\n",
       "      <th>Sale (Dollars)</th>\n",
       "      <th>Volume Sold (Liters)</th>\n",
       "      <th>Volume Sold (Gallons)</th>\n",
       "    </tr>\n",
       "  </thead>\n",
       "  <tbody>\n",
       "    <tr>\n",
       "      <th>0</th>\n",
       "      <td>2015-11-04</td>\n",
       "      <td>3717</td>\n",
       "      <td>SUMNER</td>\n",
       "      <td>50674</td>\n",
       "      <td>9.0</td>\n",
       "      <td>1051100.0</td>\n",
       "      <td>55</td>\n",
       "      <td>54436</td>\n",
       "      <td>750</td>\n",
       "      <td>4.50</td>\n",
       "      <td>6.75</td>\n",
       "      <td>12</td>\n",
       "      <td>81.00</td>\n",
       "      <td>9.0</td>\n",
       "      <td>2.38</td>\n",
       "    </tr>\n",
       "    <tr>\n",
       "      <th>1</th>\n",
       "      <td>2016-03-02</td>\n",
       "      <td>2614</td>\n",
       "      <td>DAVENPORT</td>\n",
       "      <td>52807</td>\n",
       "      <td>82.0</td>\n",
       "      <td>1011100.0</td>\n",
       "      <td>395</td>\n",
       "      <td>27605</td>\n",
       "      <td>750</td>\n",
       "      <td>13.75</td>\n",
       "      <td>20.63</td>\n",
       "      <td>2</td>\n",
       "      <td>41.26</td>\n",
       "      <td>1.5</td>\n",
       "      <td>0.40</td>\n",
       "    </tr>\n",
       "    <tr>\n",
       "      <th>2</th>\n",
       "      <td>2016-02-11</td>\n",
       "      <td>2106</td>\n",
       "      <td>CEDAR FALLS</td>\n",
       "      <td>50613</td>\n",
       "      <td>7.0</td>\n",
       "      <td>1011200.0</td>\n",
       "      <td>65</td>\n",
       "      <td>19067</td>\n",
       "      <td>1000</td>\n",
       "      <td>12.59</td>\n",
       "      <td>18.89</td>\n",
       "      <td>24</td>\n",
       "      <td>453.36</td>\n",
       "      <td>24.0</td>\n",
       "      <td>6.34</td>\n",
       "    </tr>\n",
       "    <tr>\n",
       "      <th>3</th>\n",
       "      <td>2016-02-03</td>\n",
       "      <td>2501</td>\n",
       "      <td>AMES</td>\n",
       "      <td>50010</td>\n",
       "      <td>85.0</td>\n",
       "      <td>1071100.0</td>\n",
       "      <td>395</td>\n",
       "      <td>59154</td>\n",
       "      <td>1750</td>\n",
       "      <td>9.50</td>\n",
       "      <td>14.25</td>\n",
       "      <td>6</td>\n",
       "      <td>85.50</td>\n",
       "      <td>10.5</td>\n",
       "      <td>2.77</td>\n",
       "    </tr>\n",
       "    <tr>\n",
       "      <th>4</th>\n",
       "      <td>2015-08-18</td>\n",
       "      <td>3654</td>\n",
       "      <td>BELMOND</td>\n",
       "      <td>50421</td>\n",
       "      <td>99.0</td>\n",
       "      <td>1031080.0</td>\n",
       "      <td>297</td>\n",
       "      <td>35918</td>\n",
       "      <td>1750</td>\n",
       "      <td>7.20</td>\n",
       "      <td>10.80</td>\n",
       "      <td>12</td>\n",
       "      <td>129.60</td>\n",
       "      <td>21.0</td>\n",
       "      <td>5.55</td>\n",
       "    </tr>\n",
       "  </tbody>\n",
       "</table>\n",
       "</div>"
      ],
      "text/plain": [
       "        Date  Store Number         City Zip Code  County Number   Category  \\\n",
       "0 2015-11-04          3717       SUMNER    50674            9.0  1051100.0   \n",
       "1 2016-03-02          2614    DAVENPORT    52807           82.0  1011100.0   \n",
       "2 2016-02-11          2106  CEDAR FALLS    50613            7.0  1011200.0   \n",
       "3 2016-02-03          2501         AMES    50010           85.0  1071100.0   \n",
       "4 2015-08-18          3654      BELMOND    50421           99.0  1031080.0   \n",
       "\n",
       "   Vendor Number  Item Number  Bottle Volume (ml)  State Bottle Cost  \\\n",
       "0             55        54436                 750               4.50   \n",
       "1            395        27605                 750              13.75   \n",
       "2             65        19067                1000              12.59   \n",
       "3            395        59154                1750               9.50   \n",
       "4            297        35918                1750               7.20   \n",
       "\n",
       "   State Bottle Retail  Bottles Sold  Sale (Dollars)  Volume Sold (Liters)  \\\n",
       "0                 6.75            12           81.00                   9.0   \n",
       "1                20.63             2           41.26                   1.5   \n",
       "2                18.89            24          453.36                  24.0   \n",
       "3                14.25             6           85.50                  10.5   \n",
       "4                10.80            12          129.60                  21.0   \n",
       "\n",
       "   Volume Sold (Gallons)  \n",
       "0                   2.38  \n",
       "1                   0.40  \n",
       "2                   6.34  \n",
       "3                   2.77  \n",
       "4                   5.55  "
      ]
     },
     "execution_count": 551,
     "metadata": {},
     "output_type": "execute_result"
    }
   ],
   "source": [
    "df[\"Date\"] = pd.to_datetime(df[\"Date\"], format=\"%m/%d/%Y\")\n",
    "df.head()"
   ]
  },
  {
   "cell_type": "code",
   "execution_count": 552,
   "metadata": {
    "collapsed": false
   },
   "outputs": [
    {
     "data": {
      "text/plain": [
       "Date                     False\n",
       "Store Number             False\n",
       "City                     False\n",
       "Zip Code                 False\n",
       "County Number            False\n",
       "Category                 False\n",
       "Vendor Number            False\n",
       "Item Number              False\n",
       "Bottle Volume (ml)       False\n",
       "State Bottle Cost        False\n",
       "State Bottle Retail      False\n",
       "Bottles Sold             False\n",
       "Sale (Dollars)           False\n",
       "Volume Sold (Liters)     False\n",
       "Volume Sold (Gallons)    False\n",
       "dtype: bool"
      ]
     },
     "execution_count": 552,
     "metadata": {},
     "output_type": "execute_result"
    }
   ],
   "source": [
    "df.dropna(inplace=True)\n",
    "df.isnull().any()"
   ]
  },
  {
   "cell_type": "code",
   "execution_count": 553,
   "metadata": {
    "collapsed": false
   },
   "outputs": [
    {
     "data": {
      "text/html": [
       "<div>\n",
       "<table border=\"1\" class=\"dataframe\">\n",
       "  <thead>\n",
       "    <tr style=\"text-align: right;\">\n",
       "      <th></th>\n",
       "      <th>Date</th>\n",
       "      <th>Store Number</th>\n",
       "      <th>City</th>\n",
       "      <th>Zip Code</th>\n",
       "      <th>County Number</th>\n",
       "      <th>Category</th>\n",
       "      <th>Vendor Number</th>\n",
       "      <th>Item Number</th>\n",
       "      <th>Bottle Volume (ml)</th>\n",
       "      <th>State Bottle Cost</th>\n",
       "      <th>State Bottle Retail</th>\n",
       "      <th>Bottles Sold</th>\n",
       "      <th>Sale (Dollars)</th>\n",
       "      <th>Volume Sold (Liters)</th>\n",
       "      <th>Volume Sold (Gallons)</th>\n",
       "    </tr>\n",
       "  </thead>\n",
       "  <tbody>\n",
       "    <tr>\n",
       "      <th>0</th>\n",
       "      <td>2015-11-04</td>\n",
       "      <td>3717</td>\n",
       "      <td>SUMNER</td>\n",
       "      <td>50674</td>\n",
       "      <td>9</td>\n",
       "      <td>1051100</td>\n",
       "      <td>55</td>\n",
       "      <td>54436</td>\n",
       "      <td>750</td>\n",
       "      <td>4.50</td>\n",
       "      <td>6.75</td>\n",
       "      <td>12</td>\n",
       "      <td>81.00</td>\n",
       "      <td>9.0</td>\n",
       "      <td>2.38</td>\n",
       "    </tr>\n",
       "    <tr>\n",
       "      <th>1</th>\n",
       "      <td>2016-03-02</td>\n",
       "      <td>2614</td>\n",
       "      <td>DAVENPORT</td>\n",
       "      <td>52807</td>\n",
       "      <td>82</td>\n",
       "      <td>1011100</td>\n",
       "      <td>395</td>\n",
       "      <td>27605</td>\n",
       "      <td>750</td>\n",
       "      <td>13.75</td>\n",
       "      <td>20.63</td>\n",
       "      <td>2</td>\n",
       "      <td>41.26</td>\n",
       "      <td>1.5</td>\n",
       "      <td>0.40</td>\n",
       "    </tr>\n",
       "    <tr>\n",
       "      <th>2</th>\n",
       "      <td>2016-02-11</td>\n",
       "      <td>2106</td>\n",
       "      <td>CEDAR FALLS</td>\n",
       "      <td>50613</td>\n",
       "      <td>7</td>\n",
       "      <td>1011200</td>\n",
       "      <td>65</td>\n",
       "      <td>19067</td>\n",
       "      <td>1000</td>\n",
       "      <td>12.59</td>\n",
       "      <td>18.89</td>\n",
       "      <td>24</td>\n",
       "      <td>453.36</td>\n",
       "      <td>24.0</td>\n",
       "      <td>6.34</td>\n",
       "    </tr>\n",
       "    <tr>\n",
       "      <th>3</th>\n",
       "      <td>2016-02-03</td>\n",
       "      <td>2501</td>\n",
       "      <td>AMES</td>\n",
       "      <td>50010</td>\n",
       "      <td>85</td>\n",
       "      <td>1071100</td>\n",
       "      <td>395</td>\n",
       "      <td>59154</td>\n",
       "      <td>1750</td>\n",
       "      <td>9.50</td>\n",
       "      <td>14.25</td>\n",
       "      <td>6</td>\n",
       "      <td>85.50</td>\n",
       "      <td>10.5</td>\n",
       "      <td>2.77</td>\n",
       "    </tr>\n",
       "    <tr>\n",
       "      <th>4</th>\n",
       "      <td>2015-08-18</td>\n",
       "      <td>3654</td>\n",
       "      <td>BELMOND</td>\n",
       "      <td>50421</td>\n",
       "      <td>99</td>\n",
       "      <td>1031080</td>\n",
       "      <td>297</td>\n",
       "      <td>35918</td>\n",
       "      <td>1750</td>\n",
       "      <td>7.20</td>\n",
       "      <td>10.80</td>\n",
       "      <td>12</td>\n",
       "      <td>129.60</td>\n",
       "      <td>21.0</td>\n",
       "      <td>5.55</td>\n",
       "    </tr>\n",
       "  </tbody>\n",
       "</table>\n",
       "</div>"
      ],
      "text/plain": [
       "        Date  Store Number         City Zip Code  County Number  Category  \\\n",
       "0 2015-11-04          3717       SUMNER    50674              9   1051100   \n",
       "1 2016-03-02          2614    DAVENPORT    52807             82   1011100   \n",
       "2 2016-02-11          2106  CEDAR FALLS    50613              7   1011200   \n",
       "3 2016-02-03          2501         AMES    50010             85   1071100   \n",
       "4 2015-08-18          3654      BELMOND    50421             99   1031080   \n",
       "\n",
       "   Vendor Number  Item Number  Bottle Volume (ml)  State Bottle Cost  \\\n",
       "0             55        54436                 750               4.50   \n",
       "1            395        27605                 750              13.75   \n",
       "2             65        19067                1000              12.59   \n",
       "3            395        59154                1750               9.50   \n",
       "4            297        35918                1750               7.20   \n",
       "\n",
       "   State Bottle Retail  Bottles Sold  Sale (Dollars)  Volume Sold (Liters)  \\\n",
       "0                 6.75            12           81.00                   9.0   \n",
       "1                20.63             2           41.26                   1.5   \n",
       "2                18.89            24          453.36                  24.0   \n",
       "3                14.25             6           85.50                  10.5   \n",
       "4                10.80            12          129.60                  21.0   \n",
       "\n",
       "   Volume Sold (Gallons)  \n",
       "0                   2.38  \n",
       "1                   0.40  \n",
       "2                   6.34  \n",
       "3                   2.77  \n",
       "4                   5.55  "
      ]
     },
     "execution_count": 553,
     "metadata": {},
     "output_type": "execute_result"
    }
   ],
   "source": [
    "df[\"County Number\"] = df[\"County Number\"].apply(lambda x: int(x))\n",
    "df[\"Category\"] = df[\"Category\"].apply(lambda x: int(x))\n",
    "df.head()"
   ]
  },
  {
   "cell_type": "markdown",
   "metadata": {},
   "source": [
    "# Filter the Data"
   ]
  },
  {
   "cell_type": "code",
   "execution_count": 554,
   "metadata": {
    "collapsed": false,
    "scrolled": true
   },
   "outputs": [
    {
     "data": {
      "text/html": [
       "<div>\n",
       "<table border=\"1\" class=\"dataframe\">\n",
       "  <thead>\n",
       "    <tr>\n",
       "      <th></th>\n",
       "      <th>Store Number</th>\n",
       "      <th colspan=\"2\" halign=\"left\">Date</th>\n",
       "    </tr>\n",
       "    <tr>\n",
       "      <th></th>\n",
       "      <th></th>\n",
       "      <th>amin</th>\n",
       "      <th>amax</th>\n",
       "    </tr>\n",
       "  </thead>\n",
       "  <tbody>\n",
       "    <tr>\n",
       "      <th>0</th>\n",
       "      <td>2106</td>\n",
       "      <td>2015-01-08</td>\n",
       "      <td>2016-03-31</td>\n",
       "    </tr>\n",
       "    <tr>\n",
       "      <th>1</th>\n",
       "      <td>2113</td>\n",
       "      <td>2015-01-07</td>\n",
       "      <td>2016-03-23</td>\n",
       "    </tr>\n",
       "    <tr>\n",
       "      <th>2</th>\n",
       "      <td>2130</td>\n",
       "      <td>2015-01-08</td>\n",
       "      <td>2016-03-31</td>\n",
       "    </tr>\n",
       "    <tr>\n",
       "      <th>3</th>\n",
       "      <td>2152</td>\n",
       "      <td>2015-01-08</td>\n",
       "      <td>2016-02-25</td>\n",
       "    </tr>\n",
       "    <tr>\n",
       "      <th>4</th>\n",
       "      <td>2178</td>\n",
       "      <td>2015-01-07</td>\n",
       "      <td>2016-03-30</td>\n",
       "    </tr>\n",
       "  </tbody>\n",
       "</table>\n",
       "</div>"
      ],
      "text/plain": [
       "  Store Number       Date           \n",
       "                     amin       amax\n",
       "0         2106 2015-01-08 2016-03-31\n",
       "1         2113 2015-01-07 2016-03-23\n",
       "2         2130 2015-01-08 2016-03-31\n",
       "3         2152 2015-01-08 2016-02-25\n",
       "4         2178 2015-01-07 2016-03-30"
      ]
     },
     "execution_count": 554,
     "metadata": {},
     "output_type": "execute_result"
    }
   ],
   "source": [
    "dates = df.groupby([\"Store Number\"], as_index = False)\n",
    "dates = dates.agg({\"Date\": [np.min, np.max]})\n",
    "dates.head()"
   ]
  },
  {
   "cell_type": "code",
   "execution_count": 555,
   "metadata": {
    "collapsed": false
   },
   "outputs": [
    {
     "data": {
      "text/html": [
       "<div>\n",
       "<table border=\"1\" class=\"dataframe\">\n",
       "  <thead>\n",
       "    <tr style=\"text-align: right;\">\n",
       "      <th></th>\n",
       "      <th>Date</th>\n",
       "      <th>Store Number</th>\n",
       "      <th>City</th>\n",
       "      <th>Zip Code</th>\n",
       "      <th>County Number</th>\n",
       "      <th>Category</th>\n",
       "      <th>Vendor Number</th>\n",
       "      <th>Item Number</th>\n",
       "      <th>Bottle Volume (ml)</th>\n",
       "      <th>State Bottle Cost</th>\n",
       "      <th>State Bottle Retail</th>\n",
       "      <th>Bottles Sold</th>\n",
       "      <th>Sale (Dollars)</th>\n",
       "      <th>Volume Sold (Liters)</th>\n",
       "      <th>Volume Sold (Gallons)</th>\n",
       "    </tr>\n",
       "  </thead>\n",
       "  <tbody>\n",
       "    <tr>\n",
       "      <th>0</th>\n",
       "      <td>2015-11-04</td>\n",
       "      <td>3717</td>\n",
       "      <td>SUMNER</td>\n",
       "      <td>50674</td>\n",
       "      <td>9</td>\n",
       "      <td>1051100</td>\n",
       "      <td>55</td>\n",
       "      <td>54436</td>\n",
       "      <td>750</td>\n",
       "      <td>4.50</td>\n",
       "      <td>6.75</td>\n",
       "      <td>12</td>\n",
       "      <td>81.00</td>\n",
       "      <td>9.0</td>\n",
       "      <td>2.38</td>\n",
       "    </tr>\n",
       "    <tr>\n",
       "      <th>1</th>\n",
       "      <td>2016-03-02</td>\n",
       "      <td>2614</td>\n",
       "      <td>DAVENPORT</td>\n",
       "      <td>52807</td>\n",
       "      <td>82</td>\n",
       "      <td>1011100</td>\n",
       "      <td>395</td>\n",
       "      <td>27605</td>\n",
       "      <td>750</td>\n",
       "      <td>13.75</td>\n",
       "      <td>20.63</td>\n",
       "      <td>2</td>\n",
       "      <td>41.26</td>\n",
       "      <td>1.5</td>\n",
       "      <td>0.40</td>\n",
       "    </tr>\n",
       "    <tr>\n",
       "      <th>2</th>\n",
       "      <td>2016-02-11</td>\n",
       "      <td>2106</td>\n",
       "      <td>CEDAR FALLS</td>\n",
       "      <td>50613</td>\n",
       "      <td>7</td>\n",
       "      <td>1011200</td>\n",
       "      <td>65</td>\n",
       "      <td>19067</td>\n",
       "      <td>1000</td>\n",
       "      <td>12.59</td>\n",
       "      <td>18.89</td>\n",
       "      <td>24</td>\n",
       "      <td>453.36</td>\n",
       "      <td>24.0</td>\n",
       "      <td>6.34</td>\n",
       "    </tr>\n",
       "    <tr>\n",
       "      <th>3</th>\n",
       "      <td>2016-02-03</td>\n",
       "      <td>2501</td>\n",
       "      <td>AMES</td>\n",
       "      <td>50010</td>\n",
       "      <td>85</td>\n",
       "      <td>1071100</td>\n",
       "      <td>395</td>\n",
       "      <td>59154</td>\n",
       "      <td>1750</td>\n",
       "      <td>9.50</td>\n",
       "      <td>14.25</td>\n",
       "      <td>6</td>\n",
       "      <td>85.50</td>\n",
       "      <td>10.5</td>\n",
       "      <td>2.77</td>\n",
       "    </tr>\n",
       "    <tr>\n",
       "      <th>4</th>\n",
       "      <td>2015-08-18</td>\n",
       "      <td>3654</td>\n",
       "      <td>BELMOND</td>\n",
       "      <td>50421</td>\n",
       "      <td>99</td>\n",
       "      <td>1031080</td>\n",
       "      <td>297</td>\n",
       "      <td>35918</td>\n",
       "      <td>1750</td>\n",
       "      <td>7.20</td>\n",
       "      <td>10.80</td>\n",
       "      <td>12</td>\n",
       "      <td>129.60</td>\n",
       "      <td>21.0</td>\n",
       "      <td>5.55</td>\n",
       "    </tr>\n",
       "  </tbody>\n",
       "</table>\n",
       "</div>"
      ],
      "text/plain": [
       "        Date  Store Number         City Zip Code  County Number  Category  \\\n",
       "0 2015-11-04          3717       SUMNER    50674              9   1051100   \n",
       "1 2016-03-02          2614    DAVENPORT    52807             82   1011100   \n",
       "2 2016-02-11          2106  CEDAR FALLS    50613              7   1011200   \n",
       "3 2016-02-03          2501         AMES    50010             85   1071100   \n",
       "4 2015-08-18          3654      BELMOND    50421             99   1031080   \n",
       "\n",
       "   Vendor Number  Item Number  Bottle Volume (ml)  State Bottle Cost  \\\n",
       "0             55        54436                 750               4.50   \n",
       "1            395        27605                 750              13.75   \n",
       "2             65        19067                1000              12.59   \n",
       "3            395        59154                1750               9.50   \n",
       "4            297        35918                1750               7.20   \n",
       "\n",
       "   State Bottle Retail  Bottles Sold  Sale (Dollars)  Volume Sold (Liters)  \\\n",
       "0                 6.75            12           81.00                   9.0   \n",
       "1                20.63             2           41.26                   1.5   \n",
       "2                18.89            24          453.36                  24.0   \n",
       "3                14.25             6           85.50                  10.5   \n",
       "4                10.80            12          129.60                  21.0   \n",
       "\n",
       "   Volume Sold (Gallons)  \n",
       "0                   2.38  \n",
       "1                   0.40  \n",
       "2                   6.34  \n",
       "3                   2.77  \n",
       "4                   5.55  "
      ]
     },
     "execution_count": 555,
     "metadata": {},
     "output_type": "execute_result"
    }
   ],
   "source": [
    "opened_early = datetime.datetime(2015,3,1)\n",
    "opened_late = datetime.datetime(2015,10,1)\n",
    "mask = (dates['Date', 'amin'] < opened_early) & (dates['Date', 'amax'] > opened_late)\n",
    "good_stores = dates[mask][\"Store Number\"]\n",
    "df = df[df[\"Store Number\"].isin(good_stores)]\n",
    "df.head()"
   ]
  },
  {
   "cell_type": "markdown",
   "metadata": {},
   "source": [
    "# Compute New Columns and Tables"
   ]
  },
  {
   "cell_type": "code",
   "execution_count": 556,
   "metadata": {
    "collapsed": false
   },
   "outputs": [
    {
     "data": {
      "text/html": [
       "<div>\n",
       "<table border=\"1\" class=\"dataframe\">\n",
       "  <thead>\n",
       "    <tr style=\"text-align: right;\">\n",
       "      <th></th>\n",
       "      <th>Date</th>\n",
       "      <th>Store Number</th>\n",
       "      <th>City</th>\n",
       "      <th>Zip Code</th>\n",
       "      <th>County Number</th>\n",
       "      <th>Category</th>\n",
       "      <th>Vendor Number</th>\n",
       "      <th>Item Number</th>\n",
       "      <th>Bottle Volume (ml)</th>\n",
       "      <th>State Bottle Cost</th>\n",
       "      <th>State Bottle Retail</th>\n",
       "      <th>Bottles Sold</th>\n",
       "      <th>Sale (Dollars)</th>\n",
       "      <th>Volume Sold (Liters)</th>\n",
       "      <th>Volume Sold (Gallons)</th>\n",
       "      <th>Margin</th>\n",
       "      <th>Price per bottle</th>\n",
       "      <th>Price per Liter</th>\n",
       "    </tr>\n",
       "  </thead>\n",
       "  <tbody>\n",
       "    <tr>\n",
       "      <th>0</th>\n",
       "      <td>2015-11-04</td>\n",
       "      <td>3717</td>\n",
       "      <td>SUMNER</td>\n",
       "      <td>50674</td>\n",
       "      <td>9</td>\n",
       "      <td>1051100</td>\n",
       "      <td>55</td>\n",
       "      <td>54436</td>\n",
       "      <td>750</td>\n",
       "      <td>4.50</td>\n",
       "      <td>6.75</td>\n",
       "      <td>12</td>\n",
       "      <td>81.00</td>\n",
       "      <td>9.0</td>\n",
       "      <td>2.38</td>\n",
       "      <td>27.00</td>\n",
       "      <td>9.000000</td>\n",
       "      <td>6.75</td>\n",
       "    </tr>\n",
       "    <tr>\n",
       "      <th>1</th>\n",
       "      <td>2016-03-02</td>\n",
       "      <td>2614</td>\n",
       "      <td>DAVENPORT</td>\n",
       "      <td>52807</td>\n",
       "      <td>82</td>\n",
       "      <td>1011100</td>\n",
       "      <td>395</td>\n",
       "      <td>27605</td>\n",
       "      <td>750</td>\n",
       "      <td>13.75</td>\n",
       "      <td>20.63</td>\n",
       "      <td>2</td>\n",
       "      <td>41.26</td>\n",
       "      <td>1.5</td>\n",
       "      <td>0.40</td>\n",
       "      <td>13.76</td>\n",
       "      <td>27.506667</td>\n",
       "      <td>20.63</td>\n",
       "    </tr>\n",
       "    <tr>\n",
       "      <th>2</th>\n",
       "      <td>2016-02-11</td>\n",
       "      <td>2106</td>\n",
       "      <td>CEDAR FALLS</td>\n",
       "      <td>50613</td>\n",
       "      <td>7</td>\n",
       "      <td>1011200</td>\n",
       "      <td>65</td>\n",
       "      <td>19067</td>\n",
       "      <td>1000</td>\n",
       "      <td>12.59</td>\n",
       "      <td>18.89</td>\n",
       "      <td>24</td>\n",
       "      <td>453.36</td>\n",
       "      <td>24.0</td>\n",
       "      <td>6.34</td>\n",
       "      <td>151.20</td>\n",
       "      <td>18.890000</td>\n",
       "      <td>18.89</td>\n",
       "    </tr>\n",
       "    <tr>\n",
       "      <th>3</th>\n",
       "      <td>2016-02-03</td>\n",
       "      <td>2501</td>\n",
       "      <td>AMES</td>\n",
       "      <td>50010</td>\n",
       "      <td>85</td>\n",
       "      <td>1071100</td>\n",
       "      <td>395</td>\n",
       "      <td>59154</td>\n",
       "      <td>1750</td>\n",
       "      <td>9.50</td>\n",
       "      <td>14.25</td>\n",
       "      <td>6</td>\n",
       "      <td>85.50</td>\n",
       "      <td>10.5</td>\n",
       "      <td>2.77</td>\n",
       "      <td>28.50</td>\n",
       "      <td>8.142857</td>\n",
       "      <td>14.25</td>\n",
       "    </tr>\n",
       "    <tr>\n",
       "      <th>4</th>\n",
       "      <td>2015-08-18</td>\n",
       "      <td>3654</td>\n",
       "      <td>BELMOND</td>\n",
       "      <td>50421</td>\n",
       "      <td>99</td>\n",
       "      <td>1031080</td>\n",
       "      <td>297</td>\n",
       "      <td>35918</td>\n",
       "      <td>1750</td>\n",
       "      <td>7.20</td>\n",
       "      <td>10.80</td>\n",
       "      <td>12</td>\n",
       "      <td>129.60</td>\n",
       "      <td>21.0</td>\n",
       "      <td>5.55</td>\n",
       "      <td>43.20</td>\n",
       "      <td>6.171429</td>\n",
       "      <td>10.80</td>\n",
       "    </tr>\n",
       "  </tbody>\n",
       "</table>\n",
       "</div>"
      ],
      "text/plain": [
       "        Date  Store Number         City Zip Code  County Number  Category  \\\n",
       "0 2015-11-04          3717       SUMNER    50674              9   1051100   \n",
       "1 2016-03-02          2614    DAVENPORT    52807             82   1011100   \n",
       "2 2016-02-11          2106  CEDAR FALLS    50613              7   1011200   \n",
       "3 2016-02-03          2501         AMES    50010             85   1071100   \n",
       "4 2015-08-18          3654      BELMOND    50421             99   1031080   \n",
       "\n",
       "   Vendor Number  Item Number  Bottle Volume (ml)  State Bottle Cost  \\\n",
       "0             55        54436                 750               4.50   \n",
       "1            395        27605                 750              13.75   \n",
       "2             65        19067                1000              12.59   \n",
       "3            395        59154                1750               9.50   \n",
       "4            297        35918                1750               7.20   \n",
       "\n",
       "   State Bottle Retail  Bottles Sold  Sale (Dollars)  Volume Sold (Liters)  \\\n",
       "0                 6.75            12           81.00                   9.0   \n",
       "1                20.63             2           41.26                   1.5   \n",
       "2                18.89            24          453.36                  24.0   \n",
       "3                14.25             6           85.50                  10.5   \n",
       "4                10.80            12          129.60                  21.0   \n",
       "\n",
       "   Volume Sold (Gallons)  Margin  Price per bottle  Price per Liter  \n",
       "0                   2.38   27.00          9.000000             6.75  \n",
       "1                   0.40   13.76         27.506667            20.63  \n",
       "2                   6.34  151.20         18.890000            18.89  \n",
       "3                   2.77   28.50          8.142857            14.25  \n",
       "4                   5.55   43.20          6.171429            10.80  "
      ]
     },
     "execution_count": 556,
     "metadata": {},
     "output_type": "execute_result"
    }
   ],
   "source": [
    "df[\"Margin\"] = (df[\"State Bottle Retail\"] - df[\"State Bottle Cost\"]) * df[\"Bottles Sold\"]\n",
    "df['Price per bottle'] = df[\"Sale (Dollars)\"] / df[\"Volume Sold (Liters)\"]\n",
    "df[\"Price per Liter\"] = df[\"Sale (Dollars)\"] / df[\"Bottles Sold\"]\n",
    "df.head()"
   ]
  },
  {
   "cell_type": "code",
   "execution_count": 557,
   "metadata": {
    "collapsed": false,
    "scrolled": true
   },
   "outputs": [
    {
     "name": "stderr",
     "output_type": "stream",
     "text": [
      "/Users/tianjiaoxie/anaconda/lib/python2.7/site-packages/ipykernel/__main__.py:3: FutureWarning: sort(columns=....) is deprecated, use sort_values(by=.....)\n",
      "  app.launch_new_instance()\n"
     ]
    },
    {
     "data": {
      "text/html": [
       "<div>\n",
       "<table border=\"1\" class=\"dataframe\">\n",
       "  <thead>\n",
       "    <tr style=\"text-align: right;\">\n",
       "      <th></th>\n",
       "      <th>2015 Price per Liter mean</th>\n",
       "      <th>2015 Margin mean</th>\n",
       "      <th>2015 Sale (Dollars) mean</th>\n",
       "      <th>2015 Sale (Dollars) sum</th>\n",
       "      <th>2015 Volume Sold (Liters) mean</th>\n",
       "      <th>2015 Volume Sold (Liters) sum</th>\n",
       "    </tr>\n",
       "    <tr>\n",
       "      <th>Store Number</th>\n",
       "      <th></th>\n",
       "      <th></th>\n",
       "      <th></th>\n",
       "      <th></th>\n",
       "      <th></th>\n",
       "      <th></th>\n",
       "    </tr>\n",
       "  </thead>\n",
       "  <tbody>\n",
       "    <tr>\n",
       "      <th>2106</th>\n",
       "      <td>15.475863</td>\n",
       "      <td>92.671879</td>\n",
       "      <td>277.658861</td>\n",
       "      <td>146326.22</td>\n",
       "      <td>18.466509</td>\n",
       "      <td>9731.85</td>\n",
       "    </tr>\n",
       "    <tr>\n",
       "      <th>2113</th>\n",
       "      <td>16.315646</td>\n",
       "      <td>21.149932</td>\n",
       "      <td>63.334830</td>\n",
       "      <td>9310.22</td>\n",
       "      <td>4.488776</td>\n",
       "      <td>659.85</td>\n",
       "    </tr>\n",
       "    <tr>\n",
       "      <th>2130</th>\n",
       "      <td>14.764286</td>\n",
       "      <td>95.217347</td>\n",
       "      <td>285.386301</td>\n",
       "      <td>111871.43</td>\n",
       "      <td>17.580026</td>\n",
       "      <td>6891.37</td>\n",
       "    </tr>\n",
       "    <tr>\n",
       "      <th>2152</th>\n",
       "      <td>12.887660</td>\n",
       "      <td>18.351277</td>\n",
       "      <td>54.759433</td>\n",
       "      <td>7721.08</td>\n",
       "      <td>4.491986</td>\n",
       "      <td>633.37</td>\n",
       "    </tr>\n",
       "    <tr>\n",
       "      <th>2178</th>\n",
       "      <td>14.558692</td>\n",
       "      <td>34.454430</td>\n",
       "      <td>102.633671</td>\n",
       "      <td>24324.18</td>\n",
       "      <td>8.089114</td>\n",
       "      <td>1917.12</td>\n",
       "    </tr>\n",
       "  </tbody>\n",
       "</table>\n",
       "</div>"
      ],
      "text/plain": [
       "              2015 Price per Liter mean  2015 Margin mean  \\\n",
       "Store Number                                                \n",
       "2106                          15.475863         92.671879   \n",
       "2113                          16.315646         21.149932   \n",
       "2130                          14.764286         95.217347   \n",
       "2152                          12.887660         18.351277   \n",
       "2178                          14.558692         34.454430   \n",
       "\n",
       "              2015 Sale (Dollars) mean  2015 Sale (Dollars) sum  \\\n",
       "Store Number                                                      \n",
       "2106                        277.658861                146326.22   \n",
       "2113                         63.334830                  9310.22   \n",
       "2130                        285.386301                111871.43   \n",
       "2152                         54.759433                  7721.08   \n",
       "2178                        102.633671                 24324.18   \n",
       "\n",
       "              2015 Volume Sold (Liters) mean  2015 Volume Sold (Liters) sum  \n",
       "Store Number                                                                 \n",
       "2106                               18.466509                        9731.85  \n",
       "2113                                4.488776                         659.85  \n",
       "2130                               17.580026                        6891.37  \n",
       "2152                                4.491986                         633.37  \n",
       "2178                                8.089114                        1917.12  "
      ]
     },
     "execution_count": 557,
     "metadata": {},
     "output_type": "execute_result"
    }
   ],
   "source": [
    "# Sales 2015\n",
    "import numpy as np\n",
    "df.sort(['Date'],ascending=True, inplace = True)\n",
    "start_date = datetime.datetime(2015,1,1)\n",
    "end_date = datetime.datetime(2015,12,31)\n",
    "sales = df[(df['Date']>=start_date)&(df['Date']<=end_date)].pivot_table(\n",
    "    index=['Store Number'],\n",
    "    values=[\"Sale (Dollars)\", 'Volume Sold (Liters)','Margin','Price per Liter'],\n",
    "aggfunc = {\"Sale (Dollars)\":[sum,np.mean],\n",
    "         'Volume Sold (Liters)': [sum,np.mean],\n",
    "         'Margin': np.mean,\n",
    "         'Price per Liter': np.mean })\n",
    "sales.columns = [' '.join(col).strip() for col in sales.columns.values]\n",
    "sales.columns = [u\"2015 Price per Liter mean\",u\"2015 Margin mean\",u\"2015 Sale (Dollars) mean\",\n",
    "                \"2015 Sale (Dollars) sum\",u\"2015 Volume Sold (Liters) mean\",u\"2015 Volume Sold (Liters) sum\"]\n",
    "sales.head()"
   ]
  },
  {
   "cell_type": "code",
   "execution_count": 558,
   "metadata": {
    "collapsed": false
   },
   "outputs": [
    {
     "data": {
      "text/plain": [
       "'\\nimport numpy as np\\ndf.sort([\\'Date\\'],ascending=True, inplace = True)\\nstart_date = datetime.datetime(2015,1,1)\\nend_date = datetime.datetime(2015,12,31)\\nsales = df[(df[\\'Date\\']>=start_date)&(df[\\'Date\\']<=end_date)].pivot_table(\\n    index=[\\'Store Number\\'],\\n    values=[\"Sale (Dollars)\", \\'Volume Sold (Liters)\\',\\'Margin\\',\\'Price per bottle\\',\\'Price per Liter\\'],\\naggfunc = {\"Sale (Dollars)\":[sum,np.mean],\\n         \\'Volume Sold (Liters)\\': sum,\\n         \\'Margin\\': [sum,np.mean]\\n         \\'Price per bottle\\': np.mean,\\n         \\'Price per Liter\\': np.mean })\\nsales.columns = [\\' \\'.join(col).strip() for col in sales.columns.values]\\nsales.columns = [u\\'Price per bottle mean\\', u\"Price per Liter mean\",u\"Margin sum\",u\"2015 Sale (Dollars) mean\",\\n                \"2015 Sale (Dollars) sum\",u\"Volume Sold (Liters) sum\"]\\nsales.head()\\n'"
      ]
     },
     "execution_count": 558,
     "metadata": {},
     "output_type": "execute_result"
    }
   ],
   "source": [
    "\"\"\"\n",
    "import numpy as np\n",
    "df.sort(['Date'],ascending=True, inplace = True)\n",
    "start_date = datetime.datetime(2015,1,1)\n",
    "end_date = datetime.datetime(2015,12,31)\n",
    "sales = df[(df['Date']>=start_date)&(df['Date']<=end_date)].pivot_table(\n",
    "    index=['Store Number'],\n",
    "    values=[\"Sale (Dollars)\", 'Volume Sold (Liters)','Margin','Price per bottle','Price per Liter'],\n",
    "aggfunc = {\"Sale (Dollars)\":[sum,np.mean],\n",
    "         'Volume Sold (Liters)': sum,\n",
    "         'Margin': [sum,np.mean]\n",
    "         'Price per bottle': np.mean,\n",
    "         'Price per Liter': np.mean })\n",
    "sales.columns = [' '.join(col).strip() for col in sales.columns.values]\n",
    "sales.columns = [u'Price per bottle mean', u\"Price per Liter mean\",u\"Margin sum\",u\"2015 Sale (Dollars) mean\",\n",
    "                \"2015 Sale (Dollars) sum\",u\"Volume Sold (Liters) sum\"]\n",
    "sales.head()\n",
    "\"\"\""
   ]
  },
  {
   "cell_type": "code",
   "execution_count": 559,
   "metadata": {
    "collapsed": false,
    "scrolled": true
   },
   "outputs": [
    {
     "data": {
      "text/html": [
       "<div>\n",
       "<table border=\"1\" class=\"dataframe\">\n",
       "  <thead>\n",
       "    <tr style=\"text-align: right;\">\n",
       "      <th></th>\n",
       "      <th>2015 Sales Q1</th>\n",
       "    </tr>\n",
       "    <tr>\n",
       "      <th>Store Number</th>\n",
       "      <th></th>\n",
       "    </tr>\n",
       "  </thead>\n",
       "  <tbody>\n",
       "    <tr>\n",
       "      <th>2106</th>\n",
       "      <td>39287.29</td>\n",
       "    </tr>\n",
       "    <tr>\n",
       "      <th>2113</th>\n",
       "      <td>2833.25</td>\n",
       "    </tr>\n",
       "    <tr>\n",
       "      <th>2130</th>\n",
       "      <td>24272.57</td>\n",
       "    </tr>\n",
       "    <tr>\n",
       "      <th>2152</th>\n",
       "      <td>2003.46</td>\n",
       "    </tr>\n",
       "    <tr>\n",
       "      <th>2178</th>\n",
       "      <td>5856.41</td>\n",
       "    </tr>\n",
       "    <tr>\n",
       "      <th>2190</th>\n",
       "      <td>29452.92</td>\n",
       "    </tr>\n",
       "    <tr>\n",
       "      <th>2191</th>\n",
       "      <td>29085.57</td>\n",
       "    </tr>\n",
       "    <tr>\n",
       "      <th>2200</th>\n",
       "      <td>4900.43</td>\n",
       "    </tr>\n",
       "    <tr>\n",
       "      <th>2205</th>\n",
       "      <td>6407.74</td>\n",
       "    </tr>\n",
       "    <tr>\n",
       "      <th>2228</th>\n",
       "      <td>5193.97</td>\n",
       "    </tr>\n",
       "    <tr>\n",
       "      <th>2233</th>\n",
       "      <td>5374.55</td>\n",
       "    </tr>\n",
       "    <tr>\n",
       "      <th>2238</th>\n",
       "      <td>858.61</td>\n",
       "    </tr>\n",
       "    <tr>\n",
       "      <th>2248</th>\n",
       "      <td>12663.68</td>\n",
       "    </tr>\n",
       "    <tr>\n",
       "      <th>2285</th>\n",
       "      <td>10019.12</td>\n",
       "    </tr>\n",
       "    <tr>\n",
       "      <th>2290</th>\n",
       "      <td>12191.26</td>\n",
       "    </tr>\n",
       "    <tr>\n",
       "      <th>2327</th>\n",
       "      <td>2253.60</td>\n",
       "    </tr>\n",
       "    <tr>\n",
       "      <th>2353</th>\n",
       "      <td>17382.60</td>\n",
       "    </tr>\n",
       "    <tr>\n",
       "      <th>2413</th>\n",
       "      <td>22459.16</td>\n",
       "    </tr>\n",
       "    <tr>\n",
       "      <th>2445</th>\n",
       "      <td>1215.08</td>\n",
       "    </tr>\n",
       "    <tr>\n",
       "      <th>2448</th>\n",
       "      <td>5655.92</td>\n",
       "    </tr>\n",
       "    <tr>\n",
       "      <th>2459</th>\n",
       "      <td>1609.57</td>\n",
       "    </tr>\n",
       "    <tr>\n",
       "      <th>2460</th>\n",
       "      <td>6746.61</td>\n",
       "    </tr>\n",
       "    <tr>\n",
       "      <th>2465</th>\n",
       "      <td>5615.99</td>\n",
       "    </tr>\n",
       "    <tr>\n",
       "      <th>2475</th>\n",
       "      <td>5672.76</td>\n",
       "    </tr>\n",
       "    <tr>\n",
       "      <th>2478</th>\n",
       "      <td>4459.85</td>\n",
       "    </tr>\n",
       "    <tr>\n",
       "      <th>2487</th>\n",
       "      <td>7256.60</td>\n",
       "    </tr>\n",
       "    <tr>\n",
       "      <th>2498</th>\n",
       "      <td>279.22</td>\n",
       "    </tr>\n",
       "    <tr>\n",
       "      <th>2500</th>\n",
       "      <td>40234.90</td>\n",
       "    </tr>\n",
       "    <tr>\n",
       "      <th>2501</th>\n",
       "      <td>31412.95</td>\n",
       "    </tr>\n",
       "    <tr>\n",
       "      <th>2502</th>\n",
       "      <td>39420.06</td>\n",
       "    </tr>\n",
       "    <tr>\n",
       "      <th>...</th>\n",
       "      <td>...</td>\n",
       "    </tr>\n",
       "    <tr>\n",
       "      <th>5071</th>\n",
       "      <td>1564.15</td>\n",
       "    </tr>\n",
       "    <tr>\n",
       "      <th>5072</th>\n",
       "      <td>393.72</td>\n",
       "    </tr>\n",
       "    <tr>\n",
       "      <th>5073</th>\n",
       "      <td>1332.36</td>\n",
       "    </tr>\n",
       "    <tr>\n",
       "      <th>5075</th>\n",
       "      <td>711.86</td>\n",
       "    </tr>\n",
       "    <tr>\n",
       "      <th>5076</th>\n",
       "      <td>875.05</td>\n",
       "    </tr>\n",
       "    <tr>\n",
       "      <th>5077</th>\n",
       "      <td>6004.26</td>\n",
       "    </tr>\n",
       "    <tr>\n",
       "      <th>5078</th>\n",
       "      <td>594.51</td>\n",
       "    </tr>\n",
       "    <tr>\n",
       "      <th>5079</th>\n",
       "      <td>185.85</td>\n",
       "    </tr>\n",
       "    <tr>\n",
       "      <th>5080</th>\n",
       "      <td>5659.02</td>\n",
       "    </tr>\n",
       "    <tr>\n",
       "      <th>5081</th>\n",
       "      <td>564.90</td>\n",
       "    </tr>\n",
       "    <tr>\n",
       "      <th>5082</th>\n",
       "      <td>362.79</td>\n",
       "    </tr>\n",
       "    <tr>\n",
       "      <th>5083</th>\n",
       "      <td>74.40</td>\n",
       "    </tr>\n",
       "    <tr>\n",
       "      <th>5086</th>\n",
       "      <td>810.60</td>\n",
       "    </tr>\n",
       "    <tr>\n",
       "      <th>5088</th>\n",
       "      <td>479.16</td>\n",
       "    </tr>\n",
       "    <tr>\n",
       "      <th>5089</th>\n",
       "      <td>884.03</td>\n",
       "    </tr>\n",
       "    <tr>\n",
       "      <th>5090</th>\n",
       "      <td>2193.89</td>\n",
       "    </tr>\n",
       "    <tr>\n",
       "      <th>5091</th>\n",
       "      <td>523.82</td>\n",
       "    </tr>\n",
       "    <tr>\n",
       "      <th>5092</th>\n",
       "      <td>1815.54</td>\n",
       "    </tr>\n",
       "    <tr>\n",
       "      <th>5093</th>\n",
       "      <td>2430.57</td>\n",
       "    </tr>\n",
       "    <tr>\n",
       "      <th>5094</th>\n",
       "      <td>511.86</td>\n",
       "    </tr>\n",
       "    <tr>\n",
       "      <th>5096</th>\n",
       "      <td>2040.42</td>\n",
       "    </tr>\n",
       "    <tr>\n",
       "      <th>5097</th>\n",
       "      <td>3160.02</td>\n",
       "    </tr>\n",
       "    <tr>\n",
       "      <th>5098</th>\n",
       "      <td>1360.74</td>\n",
       "    </tr>\n",
       "    <tr>\n",
       "      <th>5099</th>\n",
       "      <td>1250.49</td>\n",
       "    </tr>\n",
       "    <tr>\n",
       "      <th>5100</th>\n",
       "      <td>2180.76</td>\n",
       "    </tr>\n",
       "    <tr>\n",
       "      <th>5101</th>\n",
       "      <td>1701.47</td>\n",
       "    </tr>\n",
       "    <tr>\n",
       "      <th>5102</th>\n",
       "      <td>27695.76</td>\n",
       "    </tr>\n",
       "    <tr>\n",
       "      <th>9001</th>\n",
       "      <td>2341.08</td>\n",
       "    </tr>\n",
       "    <tr>\n",
       "      <th>9002</th>\n",
       "      <td>4865.16</td>\n",
       "    </tr>\n",
       "    <tr>\n",
       "      <th>9010</th>\n",
       "      <td>3861.60</td>\n",
       "    </tr>\n",
       "  </tbody>\n",
       "</table>\n",
       "<p>1161 rows × 1 columns</p>\n",
       "</div>"
      ],
      "text/plain": [
       "              2015 Sales Q1\n",
       "Store Number               \n",
       "2106               39287.29\n",
       "2113                2833.25\n",
       "2130               24272.57\n",
       "2152                2003.46\n",
       "2178                5856.41\n",
       "2190               29452.92\n",
       "2191               29085.57\n",
       "2200                4900.43\n",
       "2205                6407.74\n",
       "2228                5193.97\n",
       "2233                5374.55\n",
       "2238                 858.61\n",
       "2248               12663.68\n",
       "2285               10019.12\n",
       "2290               12191.26\n",
       "2327                2253.60\n",
       "2353               17382.60\n",
       "2413               22459.16\n",
       "2445                1215.08\n",
       "2448                5655.92\n",
       "2459                1609.57\n",
       "2460                6746.61\n",
       "2465                5615.99\n",
       "2475                5672.76\n",
       "2478                4459.85\n",
       "2487                7256.60\n",
       "2498                 279.22\n",
       "2500               40234.90\n",
       "2501               31412.95\n",
       "2502               39420.06\n",
       "...                     ...\n",
       "5071                1564.15\n",
       "5072                 393.72\n",
       "5073                1332.36\n",
       "5075                 711.86\n",
       "5076                 875.05\n",
       "5077                6004.26\n",
       "5078                 594.51\n",
       "5079                 185.85\n",
       "5080                5659.02\n",
       "5081                 564.90\n",
       "5082                 362.79\n",
       "5083                  74.40\n",
       "5086                 810.60\n",
       "5088                 479.16\n",
       "5089                 884.03\n",
       "5090                2193.89\n",
       "5091                 523.82\n",
       "5092                1815.54\n",
       "5093                2430.57\n",
       "5094                 511.86\n",
       "5096                2040.42\n",
       "5097                3160.02\n",
       "5098                1360.74\n",
       "5099                1250.49\n",
       "5100                2180.76\n",
       "5101                1701.47\n",
       "5102               27695.76\n",
       "9001                2341.08\n",
       "9002                4865.16\n",
       "9010                3861.60\n",
       "\n",
       "[1161 rows x 1 columns]"
      ]
     },
     "execution_count": 559,
     "metadata": {},
     "output_type": "execute_result"
    }
   ],
   "source": [
    "# Sales 2015  Q1\n",
    "start_date = pd.Timestamp('20150101')\n",
    "end_date = pd.Timestamp('20150331')\n",
    "mask = (df['Date'] >= start_date) & (df['Date'] <= end_date)\n",
    "sales_2015_q1 = df[mask].pivot_table(index = ['Store Number'], values = ['Sale (Dollars)'],aggfunc = sum)\n",
    "sales_2015_q1['2015 Sales Q1'] = sales_2015_q1['Sale (Dollars)']\n",
    "del sales_2015_q1['Sale (Dollars)']\n",
    "sales_2015_q1"
   ]
  },
  {
   "cell_type": "code",
   "execution_count": 560,
   "metadata": {
    "collapsed": false,
    "scrolled": true
   },
   "outputs": [
    {
     "data": {
      "text/html": [
       "<div>\n",
       "<table border=\"1\" class=\"dataframe\">\n",
       "  <thead>\n",
       "    <tr style=\"text-align: right;\">\n",
       "      <th></th>\n",
       "      <th>2016 Sales Q1</th>\n",
       "    </tr>\n",
       "    <tr>\n",
       "      <th>Store Number</th>\n",
       "      <th></th>\n",
       "    </tr>\n",
       "  </thead>\n",
       "  <tbody>\n",
       "    <tr>\n",
       "      <th>2106</th>\n",
       "      <td>30523.75</td>\n",
       "    </tr>\n",
       "    <tr>\n",
       "      <th>2113</th>\n",
       "      <td>2065.90</td>\n",
       "    </tr>\n",
       "    <tr>\n",
       "      <th>2130</th>\n",
       "      <td>27856.11</td>\n",
       "    </tr>\n",
       "    <tr>\n",
       "      <th>2152</th>\n",
       "      <td>904.66</td>\n",
       "    </tr>\n",
       "    <tr>\n",
       "      <th>2178</th>\n",
       "      <td>5588.50</td>\n",
       "    </tr>\n",
       "    <tr>\n",
       "      <th>2190</th>\n",
       "      <td>34515.69</td>\n",
       "    </tr>\n",
       "    <tr>\n",
       "      <th>2191</th>\n",
       "      <td>47338.20</td>\n",
       "    </tr>\n",
       "    <tr>\n",
       "      <th>2200</th>\n",
       "      <td>4174.87</td>\n",
       "    </tr>\n",
       "    <tr>\n",
       "      <th>2228</th>\n",
       "      <td>3086.38</td>\n",
       "    </tr>\n",
       "    <tr>\n",
       "      <th>2233</th>\n",
       "      <td>6522.65</td>\n",
       "    </tr>\n",
       "    <tr>\n",
       "      <th>2238</th>\n",
       "      <td>409.32</td>\n",
       "    </tr>\n",
       "    <tr>\n",
       "      <th>2248</th>\n",
       "      <td>14524.18</td>\n",
       "    </tr>\n",
       "    <tr>\n",
       "      <th>2285</th>\n",
       "      <td>12580.69</td>\n",
       "    </tr>\n",
       "    <tr>\n",
       "      <th>2290</th>\n",
       "      <td>12846.93</td>\n",
       "    </tr>\n",
       "    <tr>\n",
       "      <th>2327</th>\n",
       "      <td>2196.57</td>\n",
       "    </tr>\n",
       "    <tr>\n",
       "      <th>2353</th>\n",
       "      <td>2549.94</td>\n",
       "    </tr>\n",
       "    <tr>\n",
       "      <th>2413</th>\n",
       "      <td>23355.03</td>\n",
       "    </tr>\n",
       "    <tr>\n",
       "      <th>2445</th>\n",
       "      <td>1423.37</td>\n",
       "    </tr>\n",
       "    <tr>\n",
       "      <th>2448</th>\n",
       "      <td>6738.18</td>\n",
       "    </tr>\n",
       "    <tr>\n",
       "      <th>2459</th>\n",
       "      <td>1824.69</td>\n",
       "    </tr>\n",
       "    <tr>\n",
       "      <th>2465</th>\n",
       "      <td>5383.76</td>\n",
       "    </tr>\n",
       "    <tr>\n",
       "      <th>2475</th>\n",
       "      <td>4790.07</td>\n",
       "    </tr>\n",
       "    <tr>\n",
       "      <th>2478</th>\n",
       "      <td>4462.62</td>\n",
       "    </tr>\n",
       "    <tr>\n",
       "      <th>2498</th>\n",
       "      <td>780.34</td>\n",
       "    </tr>\n",
       "    <tr>\n",
       "      <th>2500</th>\n",
       "      <td>33836.19</td>\n",
       "    </tr>\n",
       "    <tr>\n",
       "      <th>2501</th>\n",
       "      <td>29980.54</td>\n",
       "    </tr>\n",
       "    <tr>\n",
       "      <th>2502</th>\n",
       "      <td>19017.37</td>\n",
       "    </tr>\n",
       "    <tr>\n",
       "      <th>2505</th>\n",
       "      <td>14605.93</td>\n",
       "    </tr>\n",
       "    <tr>\n",
       "      <th>2506</th>\n",
       "      <td>33041.43</td>\n",
       "    </tr>\n",
       "    <tr>\n",
       "      <th>2507</th>\n",
       "      <td>6147.99</td>\n",
       "    </tr>\n",
       "    <tr>\n",
       "      <th>...</th>\n",
       "      <td>...</td>\n",
       "    </tr>\n",
       "    <tr>\n",
       "      <th>5070</th>\n",
       "      <td>1999.78</td>\n",
       "    </tr>\n",
       "    <tr>\n",
       "      <th>5071</th>\n",
       "      <td>1719.36</td>\n",
       "    </tr>\n",
       "    <tr>\n",
       "      <th>5072</th>\n",
       "      <td>1588.56</td>\n",
       "    </tr>\n",
       "    <tr>\n",
       "      <th>5073</th>\n",
       "      <td>1816.44</td>\n",
       "    </tr>\n",
       "    <tr>\n",
       "      <th>5075</th>\n",
       "      <td>1244.88</td>\n",
       "    </tr>\n",
       "    <tr>\n",
       "      <th>5076</th>\n",
       "      <td>951.05</td>\n",
       "    </tr>\n",
       "    <tr>\n",
       "      <th>5077</th>\n",
       "      <td>9402.12</td>\n",
       "    </tr>\n",
       "    <tr>\n",
       "      <th>5078</th>\n",
       "      <td>81.40</td>\n",
       "    </tr>\n",
       "    <tr>\n",
       "      <th>5079</th>\n",
       "      <td>200.46</td>\n",
       "    </tr>\n",
       "    <tr>\n",
       "      <th>5080</th>\n",
       "      <td>5726.56</td>\n",
       "    </tr>\n",
       "    <tr>\n",
       "      <th>5081</th>\n",
       "      <td>881.73</td>\n",
       "    </tr>\n",
       "    <tr>\n",
       "      <th>5082</th>\n",
       "      <td>64.80</td>\n",
       "    </tr>\n",
       "    <tr>\n",
       "      <th>5083</th>\n",
       "      <td>672.22</td>\n",
       "    </tr>\n",
       "    <tr>\n",
       "      <th>5086</th>\n",
       "      <td>1873.83</td>\n",
       "    </tr>\n",
       "    <tr>\n",
       "      <th>5088</th>\n",
       "      <td>430.35</td>\n",
       "    </tr>\n",
       "    <tr>\n",
       "      <th>5089</th>\n",
       "      <td>880.27</td>\n",
       "    </tr>\n",
       "    <tr>\n",
       "      <th>5090</th>\n",
       "      <td>978.38</td>\n",
       "    </tr>\n",
       "    <tr>\n",
       "      <th>5091</th>\n",
       "      <td>833.09</td>\n",
       "    </tr>\n",
       "    <tr>\n",
       "      <th>5092</th>\n",
       "      <td>988.56</td>\n",
       "    </tr>\n",
       "    <tr>\n",
       "      <th>5094</th>\n",
       "      <td>482.82</td>\n",
       "    </tr>\n",
       "    <tr>\n",
       "      <th>5096</th>\n",
       "      <td>1087.62</td>\n",
       "    </tr>\n",
       "    <tr>\n",
       "      <th>5097</th>\n",
       "      <td>1665.66</td>\n",
       "    </tr>\n",
       "    <tr>\n",
       "      <th>5098</th>\n",
       "      <td>2907.37</td>\n",
       "    </tr>\n",
       "    <tr>\n",
       "      <th>5099</th>\n",
       "      <td>171.93</td>\n",
       "    </tr>\n",
       "    <tr>\n",
       "      <th>5100</th>\n",
       "      <td>3322.68</td>\n",
       "    </tr>\n",
       "    <tr>\n",
       "      <th>5101</th>\n",
       "      <td>2994.37</td>\n",
       "    </tr>\n",
       "    <tr>\n",
       "      <th>5102</th>\n",
       "      <td>52073.64</td>\n",
       "    </tr>\n",
       "    <tr>\n",
       "      <th>9001</th>\n",
       "      <td>708.24</td>\n",
       "    </tr>\n",
       "    <tr>\n",
       "      <th>9002</th>\n",
       "      <td>1382.64</td>\n",
       "    </tr>\n",
       "    <tr>\n",
       "      <th>9010</th>\n",
       "      <td>177.48</td>\n",
       "    </tr>\n",
       "  </tbody>\n",
       "</table>\n",
       "<p>1143 rows × 1 columns</p>\n",
       "</div>"
      ],
      "text/plain": [
       "              2016 Sales Q1\n",
       "Store Number               \n",
       "2106               30523.75\n",
       "2113                2065.90\n",
       "2130               27856.11\n",
       "2152                 904.66\n",
       "2178                5588.50\n",
       "2190               34515.69\n",
       "2191               47338.20\n",
       "2200                4174.87\n",
       "2228                3086.38\n",
       "2233                6522.65\n",
       "2238                 409.32\n",
       "2248               14524.18\n",
       "2285               12580.69\n",
       "2290               12846.93\n",
       "2327                2196.57\n",
       "2353                2549.94\n",
       "2413               23355.03\n",
       "2445                1423.37\n",
       "2448                6738.18\n",
       "2459                1824.69\n",
       "2465                5383.76\n",
       "2475                4790.07\n",
       "2478                4462.62\n",
       "2498                 780.34\n",
       "2500               33836.19\n",
       "2501               29980.54\n",
       "2502               19017.37\n",
       "2505               14605.93\n",
       "2506               33041.43\n",
       "2507                6147.99\n",
       "...                     ...\n",
       "5070                1999.78\n",
       "5071                1719.36\n",
       "5072                1588.56\n",
       "5073                1816.44\n",
       "5075                1244.88\n",
       "5076                 951.05\n",
       "5077                9402.12\n",
       "5078                  81.40\n",
       "5079                 200.46\n",
       "5080                5726.56\n",
       "5081                 881.73\n",
       "5082                  64.80\n",
       "5083                 672.22\n",
       "5086                1873.83\n",
       "5088                 430.35\n",
       "5089                 880.27\n",
       "5090                 978.38\n",
       "5091                 833.09\n",
       "5092                 988.56\n",
       "5094                 482.82\n",
       "5096                1087.62\n",
       "5097                1665.66\n",
       "5098                2907.37\n",
       "5099                 171.93\n",
       "5100                3322.68\n",
       "5101                2994.37\n",
       "5102               52073.64\n",
       "9001                 708.24\n",
       "9002                1382.64\n",
       "9010                 177.48\n",
       "\n",
       "[1143 rows x 1 columns]"
      ]
     },
     "execution_count": 560,
     "metadata": {},
     "output_type": "execute_result"
    }
   ],
   "source": [
    "# Sales 2016 Q1\n",
    "start_date = pd.Timestamp('20160101')\n",
    "end_date = pd.Timestamp('20160331')\n",
    "mask = (df['Date'] >= start_date) & (df['Date'] <= end_date)\n",
    "sales_2016_q1 = df[mask].pivot_table(index = ['Store Number'], values = ['Sale (Dollars)'],aggfunc = sum)\n",
    "sales_2016_q1['2016 Sales Q1'] = sales_2016_q1['Sale (Dollars)']\n",
    "del sales_2016_q1['Sale (Dollars)']\n",
    "sales_2016_q1"
   ]
  },
  {
   "cell_type": "code",
   "execution_count": 561,
   "metadata": {
    "collapsed": false,
    "scrolled": true
   },
   "outputs": [
    {
     "data": {
      "text/html": [
       "<div>\n",
       "<table border=\"1\" class=\"dataframe\">\n",
       "  <thead>\n",
       "    <tr style=\"text-align: right;\">\n",
       "      <th></th>\n",
       "      <th>2015 Price per Liter mean</th>\n",
       "      <th>2015 Margin mean</th>\n",
       "      <th>2015 Sale (Dollars) mean</th>\n",
       "      <th>2015 Sale (Dollars) sum</th>\n",
       "      <th>2015 Volume Sold (Liters) mean</th>\n",
       "      <th>2015 Volume Sold (Liters) sum</th>\n",
       "      <th>2015 Sales Q1</th>\n",
       "    </tr>\n",
       "    <tr>\n",
       "      <th>Store Number</th>\n",
       "      <th></th>\n",
       "      <th></th>\n",
       "      <th></th>\n",
       "      <th></th>\n",
       "      <th></th>\n",
       "      <th></th>\n",
       "      <th></th>\n",
       "    </tr>\n",
       "  </thead>\n",
       "  <tbody>\n",
       "    <tr>\n",
       "      <th>2106</th>\n",
       "      <td>15.475863</td>\n",
       "      <td>92.671879</td>\n",
       "      <td>277.658861</td>\n",
       "      <td>146326.22</td>\n",
       "      <td>18.466509</td>\n",
       "      <td>9731.85</td>\n",
       "      <td>39287.29</td>\n",
       "    </tr>\n",
       "    <tr>\n",
       "      <th>2113</th>\n",
       "      <td>16.315646</td>\n",
       "      <td>21.149932</td>\n",
       "      <td>63.334830</td>\n",
       "      <td>9310.22</td>\n",
       "      <td>4.488776</td>\n",
       "      <td>659.85</td>\n",
       "      <td>2833.25</td>\n",
       "    </tr>\n",
       "    <tr>\n",
       "      <th>2130</th>\n",
       "      <td>14.764286</td>\n",
       "      <td>95.217347</td>\n",
       "      <td>285.386301</td>\n",
       "      <td>111871.43</td>\n",
       "      <td>17.580026</td>\n",
       "      <td>6891.37</td>\n",
       "      <td>24272.57</td>\n",
       "    </tr>\n",
       "    <tr>\n",
       "      <th>2152</th>\n",
       "      <td>12.887660</td>\n",
       "      <td>18.351277</td>\n",
       "      <td>54.759433</td>\n",
       "      <td>7721.08</td>\n",
       "      <td>4.491986</td>\n",
       "      <td>633.37</td>\n",
       "      <td>2003.46</td>\n",
       "    </tr>\n",
       "    <tr>\n",
       "      <th>2178</th>\n",
       "      <td>14.558692</td>\n",
       "      <td>34.454430</td>\n",
       "      <td>102.633671</td>\n",
       "      <td>24324.18</td>\n",
       "      <td>8.089114</td>\n",
       "      <td>1917.12</td>\n",
       "      <td>5856.41</td>\n",
       "    </tr>\n",
       "  </tbody>\n",
       "</table>\n",
       "</div>"
      ],
      "text/plain": [
       "              2015 Price per Liter mean  2015 Margin mean  \\\n",
       "Store Number                                                \n",
       "2106                          15.475863         92.671879   \n",
       "2113                          16.315646         21.149932   \n",
       "2130                          14.764286         95.217347   \n",
       "2152                          12.887660         18.351277   \n",
       "2178                          14.558692         34.454430   \n",
       "\n",
       "              2015 Sale (Dollars) mean  2015 Sale (Dollars) sum  \\\n",
       "Store Number                                                      \n",
       "2106                        277.658861                146326.22   \n",
       "2113                         63.334830                  9310.22   \n",
       "2130                        285.386301                111871.43   \n",
       "2152                         54.759433                  7721.08   \n",
       "2178                        102.633671                 24324.18   \n",
       "\n",
       "              2015 Volume Sold (Liters) mean  2015 Volume Sold (Liters) sum  \\\n",
       "Store Number                                                                  \n",
       "2106                               18.466509                        9731.85   \n",
       "2113                                4.488776                         659.85   \n",
       "2130                               17.580026                        6891.37   \n",
       "2152                                4.491986                         633.37   \n",
       "2178                                8.089114                        1917.12   \n",
       "\n",
       "              2015 Sales Q1  \n",
       "Store Number                 \n",
       "2106               39287.29  \n",
       "2113                2833.25  \n",
       "2130               24272.57  \n",
       "2152                2003.46  \n",
       "2178                5856.41  "
      ]
     },
     "execution_count": 561,
     "metadata": {},
     "output_type": "execute_result"
    }
   ],
   "source": [
    "extended = sales.merge(sales_2015_q1, left_index=True, right_index=True)\n",
    "extended.head()"
   ]
  },
  {
   "cell_type": "code",
   "execution_count": 562,
   "metadata": {
    "collapsed": false
   },
   "outputs": [],
   "source": [
    "extended = extended.merge(sales_2016_q1, left_index=True, right_index=True, how = 'right')"
   ]
  },
  {
   "cell_type": "code",
   "execution_count": 563,
   "metadata": {
    "collapsed": false,
    "scrolled": true
   },
   "outputs": [
    {
     "data": {
      "text/html": [
       "<div>\n",
       "<table border=\"1\" class=\"dataframe\">\n",
       "  <thead>\n",
       "    <tr style=\"text-align: right;\">\n",
       "      <th></th>\n",
       "      <th>2015 Price per Liter mean</th>\n",
       "      <th>2015 Margin mean</th>\n",
       "      <th>2015 Sale (Dollars) mean</th>\n",
       "      <th>2015 Sale (Dollars) sum</th>\n",
       "      <th>2015 Volume Sold (Liters) mean</th>\n",
       "      <th>2015 Volume Sold (Liters) sum</th>\n",
       "      <th>2015 Sales Q1</th>\n",
       "      <th>2016 Sales Q1</th>\n",
       "    </tr>\n",
       "    <tr>\n",
       "      <th>Store Number</th>\n",
       "      <th></th>\n",
       "      <th></th>\n",
       "      <th></th>\n",
       "      <th></th>\n",
       "      <th></th>\n",
       "      <th></th>\n",
       "      <th></th>\n",
       "      <th></th>\n",
       "    </tr>\n",
       "  </thead>\n",
       "  <tbody>\n",
       "    <tr>\n",
       "      <th>2106</th>\n",
       "      <td>15.475863</td>\n",
       "      <td>92.671879</td>\n",
       "      <td>277.658861</td>\n",
       "      <td>146326.22</td>\n",
       "      <td>18.466509</td>\n",
       "      <td>9731.85</td>\n",
       "      <td>39287.29</td>\n",
       "      <td>30523.75</td>\n",
       "    </tr>\n",
       "    <tr>\n",
       "      <th>2113</th>\n",
       "      <td>16.315646</td>\n",
       "      <td>21.149932</td>\n",
       "      <td>63.334830</td>\n",
       "      <td>9310.22</td>\n",
       "      <td>4.488776</td>\n",
       "      <td>659.85</td>\n",
       "      <td>2833.25</td>\n",
       "      <td>2065.90</td>\n",
       "    </tr>\n",
       "    <tr>\n",
       "      <th>2130</th>\n",
       "      <td>14.764286</td>\n",
       "      <td>95.217347</td>\n",
       "      <td>285.386301</td>\n",
       "      <td>111871.43</td>\n",
       "      <td>17.580026</td>\n",
       "      <td>6891.37</td>\n",
       "      <td>24272.57</td>\n",
       "      <td>27856.11</td>\n",
       "    </tr>\n",
       "    <tr>\n",
       "      <th>2152</th>\n",
       "      <td>12.887660</td>\n",
       "      <td>18.351277</td>\n",
       "      <td>54.759433</td>\n",
       "      <td>7721.08</td>\n",
       "      <td>4.491986</td>\n",
       "      <td>633.37</td>\n",
       "      <td>2003.46</td>\n",
       "      <td>904.66</td>\n",
       "    </tr>\n",
       "    <tr>\n",
       "      <th>2178</th>\n",
       "      <td>14.558692</td>\n",
       "      <td>34.454430</td>\n",
       "      <td>102.633671</td>\n",
       "      <td>24324.18</td>\n",
       "      <td>8.089114</td>\n",
       "      <td>1917.12</td>\n",
       "      <td>5856.41</td>\n",
       "      <td>5588.50</td>\n",
       "    </tr>\n",
       "  </tbody>\n",
       "</table>\n",
       "</div>"
      ],
      "text/plain": [
       "              2015 Price per Liter mean  2015 Margin mean  \\\n",
       "Store Number                                                \n",
       "2106                          15.475863         92.671879   \n",
       "2113                          16.315646         21.149932   \n",
       "2130                          14.764286         95.217347   \n",
       "2152                          12.887660         18.351277   \n",
       "2178                          14.558692         34.454430   \n",
       "\n",
       "              2015 Sale (Dollars) mean  2015 Sale (Dollars) sum  \\\n",
       "Store Number                                                      \n",
       "2106                        277.658861                146326.22   \n",
       "2113                         63.334830                  9310.22   \n",
       "2130                        285.386301                111871.43   \n",
       "2152                         54.759433                  7721.08   \n",
       "2178                        102.633671                 24324.18   \n",
       "\n",
       "              2015 Volume Sold (Liters) mean  2015 Volume Sold (Liters) sum  \\\n",
       "Store Number                                                                  \n",
       "2106                               18.466509                        9731.85   \n",
       "2113                                4.488776                         659.85   \n",
       "2130                               17.580026                        6891.37   \n",
       "2152                                4.491986                         633.37   \n",
       "2178                                8.089114                        1917.12   \n",
       "\n",
       "              2015 Sales Q1  2016 Sales Q1  \n",
       "Store Number                                \n",
       "2106               39287.29       30523.75  \n",
       "2113                2833.25        2065.90  \n",
       "2130               24272.57       27856.11  \n",
       "2152                2003.46         904.66  \n",
       "2178                5856.41        5588.50  "
      ]
     },
     "execution_count": 563,
     "metadata": {},
     "output_type": "execute_result"
    }
   ],
   "source": [
    "extended.head()"
   ]
  },
  {
   "cell_type": "code",
   "execution_count": 564,
   "metadata": {
    "collapsed": false,
    "scrolled": true
   },
   "outputs": [
    {
     "data": {
      "text/html": [
       "<div>\n",
       "<table border=\"1\" class=\"dataframe\">\n",
       "  <thead>\n",
       "    <tr style=\"text-align: right;\">\n",
       "      <th></th>\n",
       "      <th>2015 Sales Q1</th>\n",
       "      <th>2016 Sales Q1</th>\n",
       "    </tr>\n",
       "    <tr>\n",
       "      <th>Store Number</th>\n",
       "      <th></th>\n",
       "      <th></th>\n",
       "    </tr>\n",
       "  </thead>\n",
       "  <tbody>\n",
       "    <tr>\n",
       "      <th>2106</th>\n",
       "      <td>39287.29</td>\n",
       "      <td>30523.75</td>\n",
       "    </tr>\n",
       "    <tr>\n",
       "      <th>2113</th>\n",
       "      <td>2833.25</td>\n",
       "      <td>2065.90</td>\n",
       "    </tr>\n",
       "    <tr>\n",
       "      <th>2130</th>\n",
       "      <td>24272.57</td>\n",
       "      <td>27856.11</td>\n",
       "    </tr>\n",
       "    <tr>\n",
       "      <th>2152</th>\n",
       "      <td>2003.46</td>\n",
       "      <td>904.66</td>\n",
       "    </tr>\n",
       "    <tr>\n",
       "      <th>2178</th>\n",
       "      <td>5856.41</td>\n",
       "      <td>5588.50</td>\n",
       "    </tr>\n",
       "  </tbody>\n",
       "</table>\n",
       "</div>"
      ],
      "text/plain": [
       "              2015 Sales Q1  2016 Sales Q1\n",
       "Store Number                              \n",
       "2106               39287.29       30523.75\n",
       "2113                2833.25        2065.90\n",
       "2130               24272.57       27856.11\n",
       "2152                2003.46         904.66\n",
       "2178                5856.41        5588.50"
      ]
     },
     "execution_count": 564,
     "metadata": {},
     "output_type": "execute_result"
    }
   ],
   "source": [
    "q1_sales = extended[['2015 Sales Q1','2016 Sales Q1']]\n",
    "q1_sales.head()"
   ]
  },
  {
   "cell_type": "code",
   "execution_count": 565,
   "metadata": {
    "collapsed": false
   },
   "outputs": [
    {
     "data": {
      "text/plain": [
       "(0, 50000)"
      ]
     },
     "execution_count": 565,
     "metadata": {},
     "output_type": "execute_result"
    },
    {
     "data": {
      "image/png": "[encoded data removed]",
      "text/plain": [
       "<matplotlib.figure.Figure at 0x19f4474d0>"
      ]
     },
     "metadata": {},
     "output_type": "display_data"
    }
   ],
   "source": [
    "q1_sales.plot.scatter('2015 Sales Q1','2016 Sales Q1')\n",
    "plt.title('2015 sales Q1 vs 2016 sales Q1')\n",
    "#plt.xlabel('2015')\n",
    "#plt.ylabel('2016')\n",
    "plt.xlim(0,50000)\n",
    "plt.ylim(0,50000)"
   ]
  },
  {
   "cell_type": "code",
   "execution_count": 566,
   "metadata": {
    "collapsed": false
   },
   "outputs": [],
   "source": [
    "import sklearn.grid_search\n",
    "import sklearn.linear_model\n",
    "from sklearn.cross_validation import train_test_split\n",
    "import sklearn.tree\n",
    "import seaborn"
   ]
  },
  {
   "cell_type": "markdown",
   "metadata": {},
   "source": [
    "# Ransac Regressor （2015 q1 sales vs 2016 q1 sales）"
   ]
  },
  {
   "cell_type": "code",
   "execution_count": 567,
   "metadata": {
    "collapsed": false
   },
   "outputs": [
    {
     "data": {
      "text/plain": [
       "<seaborn.axisgrid.PairGrid at 0x1951be850>"
      ]
     },
     "execution_count": 567,
     "metadata": {},
     "output_type": "execute_result"
    },
    {
     "data": {
      "image/png": "[encoded data removed]",
      "text/plain": [
       "<matplotlib.figure.Figure at 0x181e05b90>"
      ]
     },
     "metadata": {},
     "output_type": "display_data"
    }
   ],
   "source": [
    "seaborn.pairplot(q1_sales,x_vars=['2015 Sales Q1'], y_vars='2016 Sales Q1',size = 5,kind='reg')"
   ]
  },
  {
   "cell_type": "code",
   "execution_count": 568,
   "metadata": {
    "collapsed": true
   },
   "outputs": [],
   "source": [
    "X = q1_sales[['2015 Sales Q1']]\n",
    "y = q1_sales['2016 Sales Q1']"
   ]
  },
  {
   "cell_type": "code",
   "execution_count": 569,
   "metadata": {
    "collapsed": true
   },
   "outputs": [],
   "source": [
    "(X_train,X_test,y_train,y_test)= train_test_split(X, y)"
   ]
  },
  {
   "cell_type": "code",
   "execution_count": 570,
   "metadata": {
    "collapsed": false
   },
   "outputs": [
    {
     "data": {
      "text/plain": [
       "(857, 286)"
      ]
     },
     "execution_count": 570,
     "metadata": {},
     "output_type": "execute_result"
    }
   ],
   "source": [
    "len(X_train),len(X_test)"
   ]
  },
  {
   "cell_type": "code",
   "execution_count": 571,
   "metadata": {
    "collapsed": false
   },
   "outputs": [
    {
     "data": {
      "text/plain": [
       "(857, 286)"
      ]
     },
     "execution_count": 571,
     "metadata": {},
     "output_type": "execute_result"
    }
   ],
   "source": [
    "len(y_train),len(y_test)"
   ]
  },
  {
   "cell_type": "code",
   "execution_count": 572,
   "metadata": {
    "collapsed": false
   },
   "outputs": [
    {
     "data": {
      "text/plain": [
       "RANSACRegressor(base_estimator=None, is_data_valid=None, is_model_valid=None,\n",
       "        max_trials=100, min_samples=None, random_state=None,\n",
       "        residual_metric=None, residual_threshold=None, stop_n_inliers=inf,\n",
       "        stop_probability=0.99, stop_score=inf)"
      ]
     },
     "execution_count": 572,
     "metadata": {},
     "output_type": "execute_result"
    }
   ],
   "source": [
    "ransac = sklearn.linear_model.RANSACRegressor()\n",
    "ransac.fit(X_train,y_train)"
   ]
  },
  {
   "cell_type": "code",
   "execution_count": 573,
   "metadata": {
    "collapsed": false
   },
   "outputs": [
    {
     "data": {
      "text/plain": [
       "array([ 0.80146184])"
      ]
     },
     "execution_count": 573,
     "metadata": {},
     "output_type": "execute_result"
    }
   ],
   "source": [
    "ransac.estimator_.coef_"
   ]
  },
  {
   "cell_type": "code",
   "execution_count": 574,
   "metadata": {
    "collapsed": false
   },
   "outputs": [
    {
     "data": {
      "text/plain": [
       "325.25438728384484"
      ]
     },
     "execution_count": 574,
     "metadata": {},
     "output_type": "execute_result"
    }
   ],
   "source": [
    "ransac.estimator_.intercept_"
   ]
  },
  {
   "cell_type": "code",
   "execution_count": 575,
   "metadata": {
    "collapsed": false,
    "scrolled": true
   },
   "outputs": [
    {
     "data": {
      "text/plain": [
       "<matplotlib.collections.PathCollection at 0x18360e310>"
      ]
     },
     "execution_count": 575,
     "metadata": {},
     "output_type": "execute_result"
    },
    {
     "data": {
      "image/png": "[encoded data removed]",
      "text/plain": [
       "<matplotlib.figure.Figure at 0x191db6790>"
      ]
     },
     "metadata": {},
     "output_type": "display_data"
    }
   ],
   "source": [
    "predictions = ransac.predict(X_test)\n",
    "plt.scatter(y_test,predictions)"
   ]
  },
  {
   "cell_type": "code",
   "execution_count": 576,
   "metadata": {
    "collapsed": false
   },
   "outputs": [
    {
     "data": {
      "text/plain": [
       "0.90341301419825326"
      ]
     },
     "execution_count": 576,
     "metadata": {},
     "output_type": "execute_result"
    }
   ],
   "source": [
    "sklearn.metrics.r2_score(y_test, predictions)"
   ]
  },
  {
   "cell_type": "code",
   "execution_count": 577,
   "metadata": {
    "collapsed": false
   },
   "outputs": [
    {
     "data": {
      "text/plain": [
       "array([ 16354.49126814])"
      ]
     },
     "execution_count": 577,
     "metadata": {},
     "output_type": "execute_result"
    }
   ],
   "source": [
    "ransac.predict(20000)"
   ]
  },
  {
   "cell_type": "markdown",
   "metadata": {},
   "source": [
    "# Linear Regression （2015 q1 sales vs 2016 q1 sales）"
   ]
  },
  {
   "cell_type": "code",
   "execution_count": 578,
   "metadata": {
    "collapsed": true
   },
   "outputs": [],
   "source": [
    "X = q1_sales[['2015 Sales Q1']]\n",
    "y = q1_sales['2016 Sales Q1']"
   ]
  },
  {
   "cell_type": "code",
   "execution_count": 579,
   "metadata": {
    "collapsed": true
   },
   "outputs": [],
   "source": [
    "(X_train,X_test,y_train,y_test) = train_test_split(X, y)"
   ]
  },
  {
   "cell_type": "code",
   "execution_count": 580,
   "metadata": {
    "collapsed": false
   },
   "outputs": [
    {
     "data": {
      "text/plain": [
       "LinearRegression(copy_X=True, fit_intercept=True, n_jobs=1, normalize=False)"
      ]
     },
     "execution_count": 580,
     "metadata": {},
     "output_type": "execute_result"
    }
   ],
   "source": [
    "lr = sklearn.linear_model.LinearRegression()\n",
    "lr.fit(X_train,y_train)"
   ]
  },
  {
   "cell_type": "code",
   "execution_count": 581,
   "metadata": {
    "collapsed": false
   },
   "outputs": [
    {
     "data": {
      "text/plain": [
       "array([ 0.9528117])"
      ]
     },
     "execution_count": 581,
     "metadata": {},
     "output_type": "execute_result"
    }
   ],
   "source": [
    "lr.coef_"
   ]
  },
  {
   "cell_type": "code",
   "execution_count": 582,
   "metadata": {
    "collapsed": false
   },
   "outputs": [
    {
     "data": {
      "text/plain": [
       "205.69841688984616"
      ]
     },
     "execution_count": 582,
     "metadata": {},
     "output_type": "execute_result"
    }
   ],
   "source": [
    "lr.intercept_"
   ]
  },
  {
   "cell_type": "code",
   "execution_count": 583,
   "metadata": {
    "collapsed": false
   },
   "outputs": [
    {
     "data": {
      "text/plain": [
       "0.91866604280151809"
      ]
     },
     "execution_count": 583,
     "metadata": {},
     "output_type": "execute_result"
    }
   ],
   "source": [
    "lr.score(X_train,y_train)"
   ]
  },
  {
   "cell_type": "code",
   "execution_count": 584,
   "metadata": {
    "collapsed": false
   },
   "outputs": [
    {
     "data": {
      "text/plain": [
       "<matplotlib.collections.PathCollection at 0x181e2fc90>"
      ]
     },
     "execution_count": 584,
     "metadata": {},
     "output_type": "execute_result"
    },
    {
     "data": {
      "image/png": "[encoded data removed]",
      "text/plain": [
       "<matplotlib.figure.Figure at 0x19a8c2290>"
      ]
     },
     "metadata": {},
     "output_type": "display_data"
    }
   ],
   "source": [
    "predictions = lr.predict(X_test)\n",
    "plt.scatter(y_test,predictions)"
   ]
  },
  {
   "cell_type": "code",
   "execution_count": 585,
   "metadata": {
    "collapsed": false
   },
   "outputs": [
    {
     "data": {
      "text/plain": [
       "0.82357955200293831"
      ]
     },
     "execution_count": 585,
     "metadata": {},
     "output_type": "execute_result"
    }
   ],
   "source": [
    "sklearn.metrics.r2_score(y_test, predictions)"
   ]
  },
  {
   "cell_type": "code",
   "execution_count": 586,
   "metadata": {
    "collapsed": false
   },
   "outputs": [
    {
     "data": {
      "text/html": [
       "<div>\n",
       "<table border=\"1\" class=\"dataframe\">\n",
       "  <thead>\n",
       "    <tr style=\"text-align: right;\">\n",
       "      <th></th>\n",
       "      <th>2015 Price per Liter mean</th>\n",
       "      <th>2015 Margin mean</th>\n",
       "      <th>2015 Sale (Dollars) mean</th>\n",
       "      <th>2015 Sale (Dollars) sum</th>\n",
       "      <th>2015 Volume Sold (Liters) mean</th>\n",
       "      <th>2015 Volume Sold (Liters) sum</th>\n",
       "      <th>2015 Sales Q1</th>\n",
       "      <th>2016 Sales Q1</th>\n",
       "    </tr>\n",
       "    <tr>\n",
       "      <th>Store Number</th>\n",
       "      <th></th>\n",
       "      <th></th>\n",
       "      <th></th>\n",
       "      <th></th>\n",
       "      <th></th>\n",
       "      <th></th>\n",
       "      <th></th>\n",
       "      <th></th>\n",
       "    </tr>\n",
       "  </thead>\n",
       "  <tbody>\n",
       "    <tr>\n",
       "      <th>2106</th>\n",
       "      <td>15.475863</td>\n",
       "      <td>92.671879</td>\n",
       "      <td>277.658861</td>\n",
       "      <td>146326.22</td>\n",
       "      <td>18.466509</td>\n",
       "      <td>9731.85</td>\n",
       "      <td>39287.29</td>\n",
       "      <td>30523.75</td>\n",
       "    </tr>\n",
       "    <tr>\n",
       "      <th>2113</th>\n",
       "      <td>16.315646</td>\n",
       "      <td>21.149932</td>\n",
       "      <td>63.334830</td>\n",
       "      <td>9310.22</td>\n",
       "      <td>4.488776</td>\n",
       "      <td>659.85</td>\n",
       "      <td>2833.25</td>\n",
       "      <td>2065.90</td>\n",
       "    </tr>\n",
       "    <tr>\n",
       "      <th>2130</th>\n",
       "      <td>14.764286</td>\n",
       "      <td>95.217347</td>\n",
       "      <td>285.386301</td>\n",
       "      <td>111871.43</td>\n",
       "      <td>17.580026</td>\n",
       "      <td>6891.37</td>\n",
       "      <td>24272.57</td>\n",
       "      <td>27856.11</td>\n",
       "    </tr>\n",
       "    <tr>\n",
       "      <th>2152</th>\n",
       "      <td>12.887660</td>\n",
       "      <td>18.351277</td>\n",
       "      <td>54.759433</td>\n",
       "      <td>7721.08</td>\n",
       "      <td>4.491986</td>\n",
       "      <td>633.37</td>\n",
       "      <td>2003.46</td>\n",
       "      <td>904.66</td>\n",
       "    </tr>\n",
       "    <tr>\n",
       "      <th>2178</th>\n",
       "      <td>14.558692</td>\n",
       "      <td>34.454430</td>\n",
       "      <td>102.633671</td>\n",
       "      <td>24324.18</td>\n",
       "      <td>8.089114</td>\n",
       "      <td>1917.12</td>\n",
       "      <td>5856.41</td>\n",
       "      <td>5588.50</td>\n",
       "    </tr>\n",
       "  </tbody>\n",
       "</table>\n",
       "</div>"
      ],
      "text/plain": [
       "              2015 Price per Liter mean  2015 Margin mean  \\\n",
       "Store Number                                                \n",
       "2106                          15.475863         92.671879   \n",
       "2113                          16.315646         21.149932   \n",
       "2130                          14.764286         95.217347   \n",
       "2152                          12.887660         18.351277   \n",
       "2178                          14.558692         34.454430   \n",
       "\n",
       "              2015 Sale (Dollars) mean  2015 Sale (Dollars) sum  \\\n",
       "Store Number                                                      \n",
       "2106                        277.658861                146326.22   \n",
       "2113                         63.334830                  9310.22   \n",
       "2130                        285.386301                111871.43   \n",
       "2152                         54.759433                  7721.08   \n",
       "2178                        102.633671                 24324.18   \n",
       "\n",
       "              2015 Volume Sold (Liters) mean  2015 Volume Sold (Liters) sum  \\\n",
       "Store Number                                                                  \n",
       "2106                               18.466509                        9731.85   \n",
       "2113                                4.488776                         659.85   \n",
       "2130                               17.580026                        6891.37   \n",
       "2152                                4.491986                         633.37   \n",
       "2178                                8.089114                        1917.12   \n",
       "\n",
       "              2015 Sales Q1  2016 Sales Q1  \n",
       "Store Number                                \n",
       "2106               39287.29       30523.75  \n",
       "2113                2833.25        2065.90  \n",
       "2130               24272.57       27856.11  \n",
       "2152                2003.46         904.66  \n",
       "2178                5856.41        5588.50  "
      ]
     },
     "execution_count": 586,
     "metadata": {},
     "output_type": "execute_result"
    }
   ],
   "source": [
    "extended.head()"
   ]
  },
  {
   "cell_type": "code",
   "execution_count": 587,
   "metadata": {
    "collapsed": false
   },
   "outputs": [
    {
     "data": {
      "text/html": [
       "<div>\n",
       "<table border=\"1\" class=\"dataframe\">\n",
       "  <thead>\n",
       "    <tr style=\"text-align: right;\">\n",
       "      <th></th>\n",
       "      <th>2015 Price per Liter mean</th>\n",
       "      <th>2015 Margin mean</th>\n",
       "      <th>2015 Sale (Dollars) mean</th>\n",
       "      <th>2015 Sale (Dollars) sum</th>\n",
       "      <th>2015 Volume Sold (Liters) mean</th>\n",
       "      <th>2015 Volume Sold (Liters) sum</th>\n",
       "      <th>2015 Sales Q1</th>\n",
       "      <th>2016 Sales Q1</th>\n",
       "    </tr>\n",
       "  </thead>\n",
       "  <tbody>\n",
       "    <tr>\n",
       "      <th>2015 Price per Liter mean</th>\n",
       "      <td>1.000000</td>\n",
       "      <td>0.401609</td>\n",
       "      <td>0.402122</td>\n",
       "      <td>0.299636</td>\n",
       "      <td>0.283057</td>\n",
       "      <td>0.291659</td>\n",
       "      <td>0.288056</td>\n",
       "      <td>0.279914</td>\n",
       "    </tr>\n",
       "    <tr>\n",
       "      <th>2015 Margin mean</th>\n",
       "      <td>0.401609</td>\n",
       "      <td>1.000000</td>\n",
       "      <td>0.999977</td>\n",
       "      <td>0.425032</td>\n",
       "      <td>0.914719</td>\n",
       "      <td>0.417499</td>\n",
       "      <td>0.396500</td>\n",
       "      <td>0.373282</td>\n",
       "    </tr>\n",
       "    <tr>\n",
       "      <th>2015 Sale (Dollars) mean</th>\n",
       "      <td>0.402122</td>\n",
       "      <td>0.999977</td>\n",
       "      <td>1.000000</td>\n",
       "      <td>0.425460</td>\n",
       "      <td>0.913386</td>\n",
       "      <td>0.417673</td>\n",
       "      <td>0.396774</td>\n",
       "      <td>0.373713</td>\n",
       "    </tr>\n",
       "    <tr>\n",
       "      <th>2015 Sale (Dollars) sum</th>\n",
       "      <td>0.299636</td>\n",
       "      <td>0.425032</td>\n",
       "      <td>0.425460</td>\n",
       "      <td>1.000000</td>\n",
       "      <td>0.417401</td>\n",
       "      <td>0.992419</td>\n",
       "      <td>0.983339</td>\n",
       "      <td>0.968268</td>\n",
       "    </tr>\n",
       "    <tr>\n",
       "      <th>2015 Volume Sold (Liters) mean</th>\n",
       "      <td>0.283057</td>\n",
       "      <td>0.914719</td>\n",
       "      <td>0.913386</td>\n",
       "      <td>0.417401</td>\n",
       "      <td>1.000000</td>\n",
       "      <td>0.439026</td>\n",
       "      <td>0.394192</td>\n",
       "      <td>0.367309</td>\n",
       "    </tr>\n",
       "    <tr>\n",
       "      <th>2015 Volume Sold (Liters) sum</th>\n",
       "      <td>0.291659</td>\n",
       "      <td>0.417499</td>\n",
       "      <td>0.417673</td>\n",
       "      <td>0.992419</td>\n",
       "      <td>0.439026</td>\n",
       "      <td>1.000000</td>\n",
       "      <td>0.974790</td>\n",
       "      <td>0.955759</td>\n",
       "    </tr>\n",
       "    <tr>\n",
       "      <th>2015 Sales Q1</th>\n",
       "      <td>0.288056</td>\n",
       "      <td>0.396500</td>\n",
       "      <td>0.396774</td>\n",
       "      <td>0.983339</td>\n",
       "      <td>0.394192</td>\n",
       "      <td>0.974790</td>\n",
       "      <td>1.000000</td>\n",
       "      <td>0.949792</td>\n",
       "    </tr>\n",
       "    <tr>\n",
       "      <th>2016 Sales Q1</th>\n",
       "      <td>0.279914</td>\n",
       "      <td>0.373282</td>\n",
       "      <td>0.373713</td>\n",
       "      <td>0.968268</td>\n",
       "      <td>0.367309</td>\n",
       "      <td>0.955759</td>\n",
       "      <td>0.949792</td>\n",
       "      <td>1.000000</td>\n",
       "    </tr>\n",
       "  </tbody>\n",
       "</table>\n",
       "</div>"
      ],
      "text/plain": [
       "                                2015 Price per Liter mean  2015 Margin mean  \\\n",
       "2015 Price per Liter mean                        1.000000          0.401609   \n",
       "2015 Margin mean                                 0.401609          1.000000   \n",
       "2015 Sale (Dollars) mean                         0.402122          0.999977   \n",
       "2015 Sale (Dollars) sum                          0.299636          0.425032   \n",
       "2015 Volume Sold (Liters) mean                   0.283057          0.914719   \n",
       "2015 Volume Sold (Liters) sum                    0.291659          0.417499   \n",
       "2015 Sales Q1                                    0.288056          0.396500   \n",
       "2016 Sales Q1                                    0.279914          0.373282   \n",
       "\n",
       "                                2015 Sale (Dollars) mean  \\\n",
       "2015 Price per Liter mean                       0.402122   \n",
       "2015 Margin mean                                0.999977   \n",
       "2015 Sale (Dollars) mean                        1.000000   \n",
       "2015 Sale (Dollars) sum                         0.425460   \n",
       "2015 Volume Sold (Liters) mean                  0.913386   \n",
       "2015 Volume Sold (Liters) sum                   0.417673   \n",
       "2015 Sales Q1                                   0.396774   \n",
       "2016 Sales Q1                                   0.373713   \n",
       "\n",
       "                                2015 Sale (Dollars) sum  \\\n",
       "2015 Price per Liter mean                      0.299636   \n",
       "2015 Margin mean                               0.425032   \n",
       "2015 Sale (Dollars) mean                       0.425460   \n",
       "2015 Sale (Dollars) sum                        1.000000   \n",
       "2015 Volume Sold (Liters) mean                 0.417401   \n",
       "2015 Volume Sold (Liters) sum                  0.992419   \n",
       "2015 Sales Q1                                  0.983339   \n",
       "2016 Sales Q1                                  0.968268   \n",
       "\n",
       "                                2015 Volume Sold (Liters) mean  \\\n",
       "2015 Price per Liter mean                             0.283057   \n",
       "2015 Margin mean                                      0.914719   \n",
       "2015 Sale (Dollars) mean                              0.913386   \n",
       "2015 Sale (Dollars) sum                               0.417401   \n",
       "2015 Volume Sold (Liters) mean                        1.000000   \n",
       "2015 Volume Sold (Liters) sum                         0.439026   \n",
       "2015 Sales Q1                                         0.394192   \n",
       "2016 Sales Q1                                         0.367309   \n",
       "\n",
       "                                2015 Volume Sold (Liters) sum  2015 Sales Q1  \\\n",
       "2015 Price per Liter mean                            0.291659       0.288056   \n",
       "2015 Margin mean                                     0.417499       0.396500   \n",
       "2015 Sale (Dollars) mean                             0.417673       0.396774   \n",
       "2015 Sale (Dollars) sum                              0.992419       0.983339   \n",
       "2015 Volume Sold (Liters) mean                       0.439026       0.394192   \n",
       "2015 Volume Sold (Liters) sum                        1.000000       0.974790   \n",
       "2015 Sales Q1                                        0.974790       1.000000   \n",
       "2016 Sales Q1                                        0.955759       0.949792   \n",
       "\n",
       "                                2016 Sales Q1  \n",
       "2015 Price per Liter mean            0.279914  \n",
       "2015 Margin mean                     0.373282  \n",
       "2015 Sale (Dollars) mean             0.373713  \n",
       "2015 Sale (Dollars) sum              0.968268  \n",
       "2015 Volume Sold (Liters) mean       0.367309  \n",
       "2015 Volume Sold (Liters) sum        0.955759  \n",
       "2015 Sales Q1                        0.949792  \n",
       "2016 Sales Q1                        1.000000  "
      ]
     },
     "execution_count": 587,
     "metadata": {},
     "output_type": "execute_result"
    }
   ],
   "source": [
    "extended.corr()"
   ]
  },
  {
   "cell_type": "code",
   "execution_count": 588,
   "metadata": {
    "collapsed": false,
    "scrolled": true
   },
   "outputs": [
    {
     "data": {
      "text/plain": [
       "<seaborn.axisgrid.PairGrid at 0x19f349750>"
      ]
     },
     "execution_count": 588,
     "metadata": {},
     "output_type": "execute_result"
    },
    {
     "data": {
      "image/png": "[encoded data removed]",
      "text/plain": [
       "<matplotlib.figure.Figure at 0x184bcde50>"
      ]
     },
     "metadata": {},
     "output_type": "display_data"
    }
   ],
   "source": [
    "seaborn.pairplot(extended)"
   ]
  },
  {
   "cell_type": "markdown",
   "metadata": {},
   "source": [
    "#  2015 Sales Q1 vs 2015 Sales sum"
   ]
  },
  {
   "cell_type": "code",
   "execution_count": 589,
   "metadata": {
    "collapsed": true
   },
   "outputs": [],
   "source": [
    "X = extended[['2015 Sales Q1']]\n",
    "y = extended['2015 Sale (Dollars) sum']"
   ]
  },
  {
   "cell_type": "code",
   "execution_count": 590,
   "metadata": {
    "collapsed": true
   },
   "outputs": [],
   "source": [
    "(X_train,X_test,y_train,y_test) = train_test_split(X,y)"
   ]
  },
  {
   "cell_type": "code",
   "execution_count": 591,
   "metadata": {
    "collapsed": false
   },
   "outputs": [
    {
     "data": {
      "text/plain": [
       "(array([ 4.47420105]), 499.36221334232323)"
      ]
     },
     "execution_count": 591,
     "metadata": {},
     "output_type": "execute_result"
    }
   ],
   "source": [
    "lr = sklearn.linear_model.LinearRegression()\n",
    "lr.fit(X_train,y_train)\n",
    "lr.coef_,lr.intercept_"
   ]
  },
  {
   "cell_type": "code",
   "execution_count": 592,
   "metadata": {
    "collapsed": false
   },
   "outputs": [
    {
     "data": {
      "text/plain": [
       "<matplotlib.collections.PathCollection at 0x1b687bd90>"
      ]
     },
     "execution_count": 592,
     "metadata": {},
     "output_type": "execute_result"
    },
    {
     "data": {
      "image/png": "[encoded data removed]",
      "text/plain": [
       "<matplotlib.figure.Figure at 0x191784610>"
      ]
     },
     "metadata": {},
     "output_type": "display_data"
    }
   ],
   "source": [
    "predictions = lr.predict(X_test)\n",
    "plt.scatter(y_test,predictions)"
   ]
  },
  {
   "cell_type": "code",
   "execution_count": 593,
   "metadata": {
    "collapsed": false
   },
   "outputs": [
    {
     "data": {
      "text/plain": [
       "0.94412222307650195"
      ]
     },
     "execution_count": 593,
     "metadata": {},
     "output_type": "execute_result"
    }
   ],
   "source": [
    "sklearn.metrics.r2_score(y_test,predictions)"
   ]
  },
  {
   "cell_type": "code",
   "execution_count": 594,
   "metadata": {
    "collapsed": false,
    "scrolled": true
   },
   "outputs": [
    {
     "data": {
      "text/plain": [
       "(0, 400000)"
      ]
     },
     "execution_count": 594,
     "metadata": {},
     "output_type": "execute_result"
    },
    {
     "data": {
      "image/png": "[encoded data removed]",
      "text/plain": [
       "<matplotlib.figure.Figure at 0x1b6863490>"
      ]
     },
     "metadata": {},
     "output_type": "display_data"
    }
   ],
   "source": [
    "predictions = lr.predict(X)\n",
    "plt.scatter(X,y)\n",
    "plt.plot(X,predictions,color = 'red')\n",
    "plt.xlim(0, 100000)\n",
    "plt.ylim(0, 400000)"
   ]
  },
  {
   "cell_type": "markdown",
   "metadata": {},
   "source": [
    "# 2016 sales prediction"
   ]
  },
  {
   "cell_type": "code",
   "execution_count": 595,
   "metadata": {
    "collapsed": false
   },
   "outputs": [
    {
     "name": "stdout",
     "output_type": "stream",
     "text": [
      "2015 predicted 26988035.5566\n",
      "2015 actual 27145508.45\n",
      "2016 predicted 27308804.4079\n"
     ]
    }
   ],
   "source": [
    "X = extended[[\"2016 Sales Q1\"]]\n",
    "predictions = lr.predict(X)\n",
    "total_2016 = sum(predictions)\n",
    "total_2015 = sum(extended[\"2015 Sale (Dollars) sum\"])\n",
    "X2 = extended[[\"2015 Sales Q1\"]]\n",
    "pred_2015 = sum(lr.predict(X2))\n",
    "\n",
    "print \"2015 predicted\", pred_2015\n",
    "print \"2015 actual\", total_2015\n",
    "print \"2016 predicted\", total_2016"
   ]
  },
  {
   "cell_type": "code",
   "execution_count": null,
   "metadata": {
    "collapsed": false
   },
   "outputs": [],
   "source": []
  },
  {
   "cell_type": "code",
   "execution_count": 596,
   "metadata": {
    "collapsed": false
   },
   "outputs": [
    {
     "data": {
      "text/html": [
       "<div>\n",
       "<table border=\"1\" class=\"dataframe\">\n",
       "  <thead>\n",
       "    <tr style=\"text-align: right;\">\n",
       "      <th></th>\n",
       "      <th>2015 Price per Liter mean</th>\n",
       "      <th>2015 Margin mean</th>\n",
       "      <th>2015 Sale (Dollars) mean</th>\n",
       "      <th>2015 Sale (Dollars) sum</th>\n",
       "      <th>2015 Volume Sold (Liters) mean</th>\n",
       "      <th>2015 Volume Sold (Liters) sum</th>\n",
       "      <th>2015 Sales Q1</th>\n",
       "      <th>2016 Sales Q1</th>\n",
       "    </tr>\n",
       "    <tr>\n",
       "      <th>Store Number</th>\n",
       "      <th></th>\n",
       "      <th></th>\n",
       "      <th></th>\n",
       "      <th></th>\n",
       "      <th></th>\n",
       "      <th></th>\n",
       "      <th></th>\n",
       "      <th></th>\n",
       "    </tr>\n",
       "  </thead>\n",
       "  <tbody>\n",
       "    <tr>\n",
       "      <th>2106</th>\n",
       "      <td>15.475863</td>\n",
       "      <td>92.671879</td>\n",
       "      <td>277.658861</td>\n",
       "      <td>146326.22</td>\n",
       "      <td>18.466509</td>\n",
       "      <td>9731.85</td>\n",
       "      <td>39287.29</td>\n",
       "      <td>30523.75</td>\n",
       "    </tr>\n",
       "    <tr>\n",
       "      <th>2113</th>\n",
       "      <td>16.315646</td>\n",
       "      <td>21.149932</td>\n",
       "      <td>63.334830</td>\n",
       "      <td>9310.22</td>\n",
       "      <td>4.488776</td>\n",
       "      <td>659.85</td>\n",
       "      <td>2833.25</td>\n",
       "      <td>2065.90</td>\n",
       "    </tr>\n",
       "    <tr>\n",
       "      <th>2130</th>\n",
       "      <td>14.764286</td>\n",
       "      <td>95.217347</td>\n",
       "      <td>285.386301</td>\n",
       "      <td>111871.43</td>\n",
       "      <td>17.580026</td>\n",
       "      <td>6891.37</td>\n",
       "      <td>24272.57</td>\n",
       "      <td>27856.11</td>\n",
       "    </tr>\n",
       "    <tr>\n",
       "      <th>2152</th>\n",
       "      <td>12.887660</td>\n",
       "      <td>18.351277</td>\n",
       "      <td>54.759433</td>\n",
       "      <td>7721.08</td>\n",
       "      <td>4.491986</td>\n",
       "      <td>633.37</td>\n",
       "      <td>2003.46</td>\n",
       "      <td>904.66</td>\n",
       "    </tr>\n",
       "    <tr>\n",
       "      <th>2178</th>\n",
       "      <td>14.558692</td>\n",
       "      <td>34.454430</td>\n",
       "      <td>102.633671</td>\n",
       "      <td>24324.18</td>\n",
       "      <td>8.089114</td>\n",
       "      <td>1917.12</td>\n",
       "      <td>5856.41</td>\n",
       "      <td>5588.50</td>\n",
       "    </tr>\n",
       "  </tbody>\n",
       "</table>\n",
       "</div>"
      ],
      "text/plain": [
       "              2015 Price per Liter mean  2015 Margin mean  \\\n",
       "Store Number                                                \n",
       "2106                          15.475863         92.671879   \n",
       "2113                          16.315646         21.149932   \n",
       "2130                          14.764286         95.217347   \n",
       "2152                          12.887660         18.351277   \n",
       "2178                          14.558692         34.454430   \n",
       "\n",
       "              2015 Sale (Dollars) mean  2015 Sale (Dollars) sum  \\\n",
       "Store Number                                                      \n",
       "2106                        277.658861                146326.22   \n",
       "2113                         63.334830                  9310.22   \n",
       "2130                        285.386301                111871.43   \n",
       "2152                         54.759433                  7721.08   \n",
       "2178                        102.633671                 24324.18   \n",
       "\n",
       "              2015 Volume Sold (Liters) mean  2015 Volume Sold (Liters) sum  \\\n",
       "Store Number                                                                  \n",
       "2106                               18.466509                        9731.85   \n",
       "2113                                4.488776                         659.85   \n",
       "2130                               17.580026                        6891.37   \n",
       "2152                                4.491986                         633.37   \n",
       "2178                                8.089114                        1917.12   \n",
       "\n",
       "              2015 Sales Q1  2016 Sales Q1  \n",
       "Store Number                                \n",
       "2106               39287.29       30523.75  \n",
       "2113                2833.25        2065.90  \n",
       "2130               24272.57       27856.11  \n",
       "2152                2003.46         904.66  \n",
       "2178                5856.41        5588.50  "
      ]
     },
     "execution_count": 596,
     "metadata": {},
     "output_type": "execute_result"
    }
   ],
   "source": [
    "extended.head()"
   ]
  },
  {
   "cell_type": "markdown",
   "metadata": {},
   "source": [
    "# Price per liter mean vs Volume sold mean"
   ]
  },
  {
   "cell_type": "code",
   "execution_count": 600,
   "metadata": {
    "collapsed": false
   },
   "outputs": [
    {
     "data": {
      "text/plain": [
       "(0, 20)"
      ]
     },
     "execution_count": 600,
     "metadata": {},
     "output_type": "execute_result"
    },
    {
     "data": {
      "image/png": "[encoded data removed]",
      "text/plain": [
       "<matplotlib.figure.Figure at 0x1b6d06d90>"
      ]
     },
     "metadata": {},
     "output_type": "display_data"
    }
   ],
   "source": [
    "plt.scatter(extended['2015 Price per Liter mean'],extended['2015 Volume Sold (Liters) mean'])\n",
    "plt.title('Price per liter mean vs Volume sold mean')\n",
    "plt.xlim(0,20)\n",
    "plt.ylim(0,20)"
   ]
  },
  {
   "cell_type": "code",
   "execution_count": 602,
   "metadata": {
    "collapsed": false
   },
   "outputs": [
    {
     "data": {
      "text/plain": [
       "(array([-0.07635705]), 8.1181142481780491)"
      ]
     },
     "execution_count": 602,
     "metadata": {},
     "output_type": "execute_result"
    }
   ],
   "source": [
    "X = extended[['2015 Price per Liter mean']]\n",
    "y = extended['2015 Volume Sold (Liters) mean']\n",
    "(X_train,X_test,y_train,y_test) = train_test_split(X,y)\n",
    "r = sklearn.linear_model.RANSACRegressor()\n",
    "r.fit(X_train,y_train)\n",
    "r.estimator_.coef_, r.estimator_.intercept_"
   ]
  },
  {
   "cell_type": "code",
   "execution_count": 603,
   "metadata": {
    "collapsed": false
   },
   "outputs": [
    {
     "data": {
      "text/plain": [
       "<matplotlib.collections.PathCollection at 0x1b719ca90>"
      ]
     },
     "execution_count": 603,
     "metadata": {},
     "output_type": "execute_result"
    },
    {
     "data": {
      "image/png": "[encoded data removed]",
      "text/plain": [
       "<matplotlib.figure.Figure at 0x1b559cb90>"
      ]
     },
     "metadata": {},
     "output_type": "display_data"
    }
   ],
   "source": [
    "predictions = r.predict(X_test)\n",
    "plt.scatter(y_test, predictions)"
   ]
  },
  {
   "cell_type": "code",
   "execution_count": 604,
   "metadata": {
    "collapsed": false
   },
   "outputs": [
    {
     "data": {
      "text/plain": [
       "-0.078660476264438284"
      ]
     },
     "execution_count": 604,
     "metadata": {},
     "output_type": "execute_result"
    }
   ],
   "source": [
    "sklearn.metrics.r2_score(y_test,predictions)"
   ]
  },
  {
   "cell_type": "code",
   "execution_count": null,
   "metadata": {
    "collapsed": true
   },
   "outputs": [],
   "source": []
  }
 ],
 "metadata": {
  "kernelspec": {
   "display_name": "Python 2",
   "language": "python",
   "name": "python2"
  }
 },
 "nbformat": 4,
 "nbformat_minor": 0
}
